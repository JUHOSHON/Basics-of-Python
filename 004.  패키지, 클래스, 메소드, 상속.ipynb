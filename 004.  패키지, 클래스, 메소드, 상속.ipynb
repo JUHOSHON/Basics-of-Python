{
 "cells": [
  {
   "cell_type": "markdown",
   "id": "4edf7ba6",
   "metadata": {},
   "source": [
    "# datetime 날짜, 시간 모듈\n",
    " - datetime 모듈에는 date 클래스, time 클래스, datetime 클래스가 있다.\n",
    " - datetime 모듈 각 클래스에서 객체를 생성해서 이용하는 방법 <br>\n",
    " - 변수명 = 모듈명.클래스(객체) <br>\n",
    "  import datetime <br>\n",
    "  date_obj = datetime.date(year, month, day) 괄호 안이 객체<br>\n",
    "  time_obj = datetime.time(hour, minute, second) <br>\n",
    "  datetime_obj = datetime.datetime(year, month, day, hour, minute, second)<br>\n",
    "   "
   ]
  },
  {
   "cell_type": "code",
   "execution_count": 6,
   "id": "c6681a1a",
   "metadata": {},
   "outputs": [
    {
     "name": "stdout",
     "output_type": "stream",
     "text": [
      "2021-08-02\n",
      "2021/8/2\n"
     ]
    }
   ],
   "source": [
    "import datetime\n",
    "\n",
    "set_day = datetime.date(2021, 8, 2)\n",
    "print(set_day)\n",
    "\n",
    "print('{0}/{1}/{2}'.format(set_day.year, set_day.month, set_day.day))"
   ]
  },
  {
   "cell_type": "code",
   "execution_count": 1,
   "id": "26b4d165",
   "metadata": {},
   "outputs": [
    {
     "name": "stdout",
     "output_type": "stream",
     "text": [
      "2021-08-04\n"
     ]
    }
   ],
   "source": [
    "# datetime 모듈의 date클ㄹ스에는 today() 메소드 제공\n",
    "import datetime\n",
    "print(datetime.date.today())"
   ]
  },
  {
   "cell_type": "code",
   "execution_count": 3,
   "id": "02c1321b",
   "metadata": {},
   "outputs": [
    {
     "name": "stdout",
     "output_type": "stream",
     "text": [
      "2021-08-04 11:22:29.724343\n",
      "Date & Time: 2021-08-04, 11:22:29\n"
     ]
    }
   ],
   "source": [
    "# datetime 클래스는 now() 메소드도 제공\n",
    "import datetime\n",
    "now = datetime.datetime.now()\n",
    "print(now)\n",
    "print('Date & Time: {:%Y-%m-%d, %H:%M:%S}'.format(now))"
   ]
  },
  {
   "cell_type": "code",
   "execution_count": 5,
   "id": "554b43b4",
   "metadata": {},
   "outputs": [
    {
     "name": "stdout",
     "output_type": "stream",
     "text": [
      "Date: 2021, 08, 04\n",
      "Time: 11/22/29\n"
     ]
    }
   ],
   "source": [
    "print('Date: {:%Y, %m, %d}'.format(now))\n",
    "print('Time: {:%H/%M/%S}'.format(now))      "
   ]
  },
  {
   "cell_type": "markdown",
   "id": "b868f6e5",
   "metadata": {},
   "source": [
    "### 매번 모듈명 쓰기 귀찮다 ==> from 모듈명 import 클래스명 활용"
   ]
  },
  {
   "cell_type": "code",
   "execution_count": 7,
   "id": "25035f08",
   "metadata": {},
   "outputs": [
    {
     "name": "stdout",
     "output_type": "stream",
     "text": [
      "2021-07-01\n",
      "2021-08-04\n"
     ]
    }
   ],
   "source": [
    "from datetime import date, time, datetime\n",
    "print(date(2021, 7, 1))\n",
    "print(date.today())"
   ]
  },
  {
   "cell_type": "markdown",
   "id": "9bb5ea3c",
   "metadata": {},
   "source": [
    "# 달력"
   ]
  },
  {
   "cell_type": "code",
   "execution_count": 8,
   "id": "3234226b",
   "metadata": {},
   "outputs": [
    {
     "name": "stdout",
     "output_type": "stream",
     "text": [
      "                                  2021\n",
      "\n",
      "      January                   February                   March\n",
      "Mo Tu We Th Fr Sa Su      Mo Tu We Th Fr Sa Su      Mo Tu We Th Fr Sa Su\n",
      "             1  2  3       1  2  3  4  5  6  7       1  2  3  4  5  6  7\n",
      " 4  5  6  7  8  9 10       8  9 10 11 12 13 14       8  9 10 11 12 13 14\n",
      "11 12 13 14 15 16 17      15 16 17 18 19 20 21      15 16 17 18 19 20 21\n",
      "18 19 20 21 22 23 24      22 23 24 25 26 27 28      22 23 24 25 26 27 28\n",
      "25 26 27 28 29 30 31                                29 30 31\n",
      "\n",
      "       April                      May                       June\n",
      "Mo Tu We Th Fr Sa Su      Mo Tu We Th Fr Sa Su      Mo Tu We Th Fr Sa Su\n",
      "          1  2  3  4                      1  2          1  2  3  4  5  6\n",
      " 5  6  7  8  9 10 11       3  4  5  6  7  8  9       7  8  9 10 11 12 13\n",
      "12 13 14 15 16 17 18      10 11 12 13 14 15 16      14 15 16 17 18 19 20\n",
      "19 20 21 22 23 24 25      17 18 19 20 21 22 23      21 22 23 24 25 26 27\n",
      "26 27 28 29 30            24 25 26 27 28 29 30      28 29 30\n",
      "                          31\n",
      "\n",
      "        July                     August                  September\n",
      "Mo Tu We Th Fr Sa Su      Mo Tu We Th Fr Sa Su      Mo Tu We Th Fr Sa Su\n",
      "          1  2  3  4                         1             1  2  3  4  5\n",
      " 5  6  7  8  9 10 11       2  3  4  5  6  7  8       6  7  8  9 10 11 12\n",
      "12 13 14 15 16 17 18       9 10 11 12 13 14 15      13 14 15 16 17 18 19\n",
      "19 20 21 22 23 24 25      16 17 18 19 20 21 22      20 21 22 23 24 25 26\n",
      "26 27 28 29 30 31         23 24 25 26 27 28 29      27 28 29 30\n",
      "                          30 31\n",
      "\n",
      "      October                   November                  December\n",
      "Mo Tu We Th Fr Sa Su      Mo Tu We Th Fr Sa Su      Mo Tu We Th Fr Sa Su\n",
      "             1  2  3       1  2  3  4  5  6  7             1  2  3  4  5\n",
      " 4  5  6  7  8  9 10       8  9 10 11 12 13 14       6  7  8  9 10 11 12\n",
      "11 12 13 14 15 16 17      15 16 17 18 19 20 21      13 14 15 16 17 18 19\n",
      "18 19 20 21 22 23 24      22 23 24 25 26 27 28      20 21 22 23 24 25 26\n",
      "25 26 27 28 29 30 31      29 30                     27 28 29 30 31\n",
      "\n"
     ]
    }
   ],
   "source": [
    "import calendar\n",
    "\n",
    "print(calendar.calendar(2021))"
   ]
  },
  {
   "cell_type": "code",
   "execution_count": 10,
   "id": "27de0d0b",
   "metadata": {},
   "outputs": [
    {
     "name": "stdout",
     "output_type": "stream",
     "text": [
      "                                               2021\n",
      "\n",
      "      January                   February                   March                     April\n",
      "Mo Tu We Th Fr Sa Su      Mo Tu We Th Fr Sa Su      Mo Tu We Th Fr Sa Su      Mo Tu We Th Fr Sa Su\n",
      "             1  2  3       1  2  3  4  5  6  7       1  2  3  4  5  6  7                1  2  3  4\n",
      " 4  5  6  7  8  9 10       8  9 10 11 12 13 14       8  9 10 11 12 13 14       5  6  7  8  9 10 11\n",
      "11 12 13 14 15 16 17      15 16 17 18 19 20 21      15 16 17 18 19 20 21      12 13 14 15 16 17 18\n",
      "18 19 20 21 22 23 24      22 23 24 25 26 27 28      22 23 24 25 26 27 28      19 20 21 22 23 24 25\n",
      "25 26 27 28 29 30 31                                29 30 31                  26 27 28 29 30\n",
      "\n",
      "        May                       June                      July                     August\n",
      "Mo Tu We Th Fr Sa Su      Mo Tu We Th Fr Sa Su      Mo Tu We Th Fr Sa Su      Mo Tu We Th Fr Sa Su\n",
      "                1  2          1  2  3  4  5  6                1  2  3  4                         1\n",
      " 3  4  5  6  7  8  9       7  8  9 10 11 12 13       5  6  7  8  9 10 11       2  3  4  5  6  7  8\n",
      "10 11 12 13 14 15 16      14 15 16 17 18 19 20      12 13 14 15 16 17 18       9 10 11 12 13 14 15\n",
      "17 18 19 20 21 22 23      21 22 23 24 25 26 27      19 20 21 22 23 24 25      16 17 18 19 20 21 22\n",
      "24 25 26 27 28 29 30      28 29 30                  26 27 28 29 30 31         23 24 25 26 27 28 29\n",
      "31                                                                            30 31\n",
      "\n",
      "     September                  October                   November                  December\n",
      "Mo Tu We Th Fr Sa Su      Mo Tu We Th Fr Sa Su      Mo Tu We Th Fr Sa Su      Mo Tu We Th Fr Sa Su\n",
      "       1  2  3  4  5                   1  2  3       1  2  3  4  5  6  7             1  2  3  4  5\n",
      " 6  7  8  9 10 11 12       4  5  6  7  8  9 10       8  9 10 11 12 13 14       6  7  8  9 10 11 12\n",
      "13 14 15 16 17 18 19      11 12 13 14 15 16 17      15 16 17 18 19 20 21      13 14 15 16 17 18 19\n",
      "20 21 22 23 24 25 26      18 19 20 21 22 23 24      22 23 24 25 26 27 28      20 21 22 23 24 25 26\n",
      "27 28 29 30               25 26 27 28 29 30 31      29 30                     27 28 29 30 31\n",
      "\n"
     ]
    }
   ],
   "source": [
    "# m = 달력을 몇개의 열로 출력할 것인지(기본은 3)\n",
    "print(calendar.calendar(2021, m=4))"
   ]
  },
  {
   "cell_type": "code",
   "execution_count": 12,
   "id": "fe61f57a",
   "metadata": {},
   "outputs": [
    {
     "name": "stdout",
     "output_type": "stream",
     "text": [
      "   September 2021\n",
      "Mo Tu We Th Fr Sa Su\n",
      "       1  2  3  4  5\n",
      " 6  7  8  9 10 11 12\n",
      "13 14 15 16 17 18 19\n",
      "20 21 22 23 24 25 26\n",
      "27 28 29 30\n",
      "\n"
     ]
    }
   ],
   "source": [
    "print(calendar.month(2021, 9))"
   ]
  },
  {
   "cell_type": "code",
   "execution_count": 14,
   "id": "51d9861b",
   "metadata": {},
   "outputs": [
    {
     "data": {
      "text/plain": [
       "(0, 28)"
      ]
     },
     "execution_count": 14,
     "metadata": {},
     "output_type": "execute_result"
    }
   ],
   "source": [
    "# 연도와 월 지정해서 그달 1일이 시작하는 요일과 그달의 날짜 수\n",
    "# 월 ~ 일 : 0 ~ 6\n",
    "calendar.monthrange(2021, 2)"
   ]
  },
  {
   "cell_type": "code",
   "execution_count": 15,
   "id": "11c1449d",
   "metadata": {},
   "outputs": [
    {
     "data": {
      "text/plain": [
       "0"
      ]
     },
     "execution_count": 15,
     "metadata": {},
     "output_type": "execute_result"
    }
   ],
   "source": [
    "# 달력에서 일주일의 시작 요일을 구할 때\n",
    "calendar.firstweekday()"
   ]
  },
  {
   "cell_type": "code",
   "execution_count": 16,
   "id": "66f67891",
   "metadata": {},
   "outputs": [
    {
     "name": "stdout",
     "output_type": "stream",
     "text": [
      "    August 2021\n",
      "Su Mo Tu We Th Fr Sa\n",
      " 1  2  3  4  5  6  7\n",
      " 8  9 10 11 12 13 14\n",
      "15 16 17 18 19 20 21\n",
      "22 23 24 25 26 27 28\n",
      "29 30 31\n",
      "\n"
     ]
    }
   ],
   "source": [
    "# 달력에 기본이 월요일 시작인데\n",
    "# 일주일의 시작 요일을 바꾸고 달력을 출력할 때\n",
    "\n",
    "calendar.setfirstweekday(calendar.SUNDAY)\n",
    "print(calendar.month(2021, 8))"
   ]
  },
  {
   "cell_type": "code",
   "execution_count": 17,
   "id": "8fe1fad9",
   "metadata": {},
   "outputs": [
    {
     "name": "stdout",
     "output_type": "stream",
     "text": [
      "6\n"
     ]
    }
   ],
   "source": [
    "# 해당 날짜의 요일 반환 weekday()\n",
    "print(calendar.weekday(2021, 8, 1))"
   ]
  },
  {
   "cell_type": "markdown",
   "id": "3a33f2f8",
   "metadata": {},
   "source": [
    "# 패키지\n",
    " - 여러 모듈을 체계적으로 모아서 만든 것(보통 기능을 구현할 때 여러 모듈을 사용, 효율적으로 코드를 관리)\n",
    " - 패키지는 폴더 구조, 각 폴더에는 *__init__.py*라는 파일 존재\n",
    " - 파일의 역할은 해당 폴더가 패키지의 일부인 것을 알려주는 역할\n",
    " - 파일 안에 패키지를 초기화하는 코드를 넣을 수도 있고 빈 코드를 넣을 수도 있음\n",
    " - 최신버전에는 없어도 되지만 하위 호환을 위해서 넣는게 좋다."
   ]
  },
  {
   "cell_type": "markdown",
   "id": "9666acd0",
   "metadata": {},
   "source": [
    "# 객체\n",
    " - 속성(상태, 특징)과 행위(행동, 동작, 기능)로 구성된 대상\n",
    " - **속성은 변수로, 행동은 함수로 구현**\n",
    " - **객체의 행동을 나타낸 함수를 메소드라고 부른다.**\n",
    " - 메소드의 종류 <br>\n",
    "     - 인스턴스 메소드 : 인스턴스 변수를 사용하거나, 인스턴스 변수에 값을 설정하는 메소드<br>\n",
    "     - 클래스 메소드<br>\n",
    "     - 정적메소드<br>\n",
    " \n",
    "# 클래스\n",
    " - 객체를 만들기 전에 선언하는 것(객체를 만들기 위한 기본 틀)\n",
    " - 객체는 클래스를 바탕으로 만들어진 결과물\n",
    " - **객체를 클래스의 인스턴스라고 한다.**\n",
    " - 엄밀히 말하면 객체 == 인스턴스는 아님.\n",
    " - 객체는 만들려는 것을 묘사, 형상화 한 것이고\n",
    " - 인스턴스는 그 객체를 실체화 하는 것.\n",
    " - 객체는 빈 붕어빵 인스턴스는 팥, 슈크림, ㄱ구마 넣은 붕어빵??"
   ]
  },
  {
   "cell_type": "code",
   "execution_count": 31,
   "id": "36e8bd6b",
   "metadata": {},
   "outputs": [
    {
     "name": "stdout",
     "output_type": "stream",
     "text": [
      "abcd@naver.com\n",
      "23456\n",
      "안녕하세요 저는 김대위입니다.\n",
      "안녕하세요 저는 박대위입니다.\n",
      "안녕하세요 저는 김대위입니다.\n"
     ]
    },
    {
     "ename": "TypeError",
     "evalue": "login() takes 3 positional arguments but 4 were given",
     "output_type": "error",
     "traceback": [
      "\u001b[1;31m---------------------------------------------------------------------------\u001b[0m",
      "\u001b[1;31mTypeError\u001b[0m                                 Traceback (most recent call last)",
      "\u001b[1;32m<ipython-input-31-fb24cba24e47>\u001b[0m in \u001b[0;36m<module>\u001b[1;34m\u001b[0m\n\u001b[0;32m     41\u001b[0m \u001b[0muser1\u001b[0m\u001b[1;33m.\u001b[0m\u001b[0msay_hello\u001b[0m\u001b[1;33m(\u001b[0m\u001b[1;33m)\u001b[0m\u001b[1;33m\u001b[0m\u001b[1;33m\u001b[0m\u001b[0m\n\u001b[0;32m     42\u001b[0m \u001b[1;33m\u001b[0m\u001b[0m\n\u001b[1;32m---> 43\u001b[1;33m \u001b[0muser1\u001b[0m\u001b[1;33m.\u001b[0m\u001b[0mlogin\u001b[0m\u001b[1;33m(\u001b[0m\u001b[0muser1\u001b[0m\u001b[1;33m,\u001b[0m\u001b[1;34m'abcd@naver.com'\u001b[0m\u001b[1;33m,\u001b[0m \u001b[1;34m'12345'\u001b[0m\u001b[1;33m)\u001b[0m \u001b[1;31m#틀림\u001b[0m\u001b[1;33m\u001b[0m\u001b[1;33m\u001b[0m\u001b[0m\n\u001b[0m\u001b[0;32m     44\u001b[0m \u001b[0muser1\u001b[0m\u001b[1;33m.\u001b[0m\u001b[0mlogin\u001b[0m\u001b[1;33m(\u001b[0m\u001b[1;34m'abcd@naver.com'\u001b[0m\u001b[1;33m,\u001b[0m \u001b[1;34m'12345'\u001b[0m\u001b[1;33m)\u001b[0m \u001b[1;31m#정답 user1이 자동으로 메소드의 파라미터로 전달\u001b[0m\u001b[1;33m\u001b[0m\u001b[1;33m\u001b[0m\u001b[0m\n",
      "\u001b[1;31mTypeError\u001b[0m: login() takes 3 positional arguments but 4 were given"
     ]
    }
   ],
   "source": [
    "# 클래스명 첫글자는 항상 대문자\n",
    "# 클래스 내의 함수를 메소드라고 부른다.\n",
    "class User:\n",
    "    def say_hello(some_user): # 인스턴스 메소드 name이라는 인스턴스 변수를 사용하기 때문에\n",
    "\n",
    "        # 인사 메세지 출력 메소드\n",
    "        print('안녕하세요 저는 {}입니다.'.format(some_user.name)) \n",
    "        \n",
    "    def login(some_user, my_email, my_password):\n",
    "        if some_user.email == my_email and some_user.password == my_pasword:\n",
    "            print('로그인 성공')\n",
    "        else:\n",
    "            print('로그인 실패')\n",
    "            \n",
    "\n",
    "# 붕어빵 3개 생성\n",
    "user1 = User() # User()를 통해 User 인스턴스가 생성되고 변수 user1이 인스턴스를 가르킴\n",
    "user2 = User()\n",
    "user3 = User()\n",
    "\n",
    "# 인스턴스 변수 정의하기\n",
    "# 인스턴스이름.속성이름(인스턴스 변수) = '속성에 넣을 값'\n",
    "# 인스턴스 변수 : 인스턴스가 개별적으로 가진 속성\n",
    "user1.name = '김대위' \n",
    "user1.email = 'abcd@naver.com'\n",
    "user1.password = '12345'\n",
    "\n",
    "user2.name = '박대위'\n",
    "user2.email = 'sfsdf@naver.com'\n",
    "user2.password = '23456'\n",
    "\n",
    "# 인스턴스 변수 사용하기\n",
    "print(user1.email)\n",
    "print(user2.password)\n",
    "\n",
    "# 클래스에서 메소드 호출\n",
    "User.say_hello(user1)\n",
    "User.say_hello(user2)\n",
    "\n",
    "#파라미터를 넘겨주지 않아도 출력이된다??\n",
    "# 인스턴스에 메소드를 호출하면 인스턴스명이 파라미터로 자동으로 전달\n",
    "user1.say_hello() \n",
    "\n",
    "user1.login(user1,'abcd@naver.com', '12345') #틀림\n",
    "user1.login('abcd@naver.com', '12345') #정답 user1이 자동으로 메소드의 파라미터로 전달"
   ]
  },
  {
   "cell_type": "markdown",
   "id": "b6f0317e",
   "metadata": {},
   "source": [
    "### 파이썬에서는 인스턴스 메소드를 정의할 때 첫 파라미터를 self로 쓰라고 권장\n",
    "### 밑을 예로들면 user1이 def login의 첫번째 파라미터로 자동으로 매칭되기때문"
   ]
  },
  {
   "cell_type": "code",
   "execution_count": 33,
   "id": "c3a76df2",
   "metadata": {},
   "outputs": [
    {
     "name": "stdout",
     "output_type": "stream",
     "text": [
      "로그인 성공\n"
     ]
    }
   ],
   "source": [
    "class User:\n",
    "    def say_hello(self): # 인스턴스 메소드 name이라는 인스턴스 변수를 사용하기 때문에\n",
    "\n",
    "        # 인사 메세지 출력 메소드\n",
    "        print('안녕하세요 저는 {}입니다.'.format(self.name)) \n",
    "        \n",
    "    def login(self, my_email, my_password): # user1.login('abcd@naver.com', '12345')\n",
    "        if self.email == my_email and self.password == my_password:\n",
    "            print('로그인 성공')\n",
    "        else:\n",
    "            print('로그인 실패')\n",
    "            \n",
    "            \n",
    "user1 = User()\n",
    "\n",
    "user1.name = '김대위' \n",
    "user1.email = 'abcd@naver.com'\n",
    "user1.password = '12345'\n",
    "\n",
    "user1.login('abcd@naver.com', '12345') #정답 user1이 자동으로 메소드의 파라미터로 전달"
   ]
  },
  {
   "cell_type": "markdown",
   "id": "3e567683",
   "metadata": {},
   "source": [
    "### 인스턴스 변수와 같은 이름을 갖는 파라미터"
   ]
  },
  {
   "cell_type": "code",
   "execution_count": 34,
   "id": "654fbb1e",
   "metadata": {},
   "outputs": [
    {
     "name": "stdout",
     "output_type": "stream",
     "text": [
      "True\n"
     ]
    }
   ],
   "source": [
    "class User:\n",
    "    def say_hello(self): # 인스턴스 메소드 name이라는 인스턴스 변수를 사용하기 때문에\n",
    "\n",
    "        # 인사 메세지 출력 메소드\n",
    "        print('안녕하세요 저는 {}입니다.'.format(self.name)) \n",
    "        \n",
    "    def check_name(self, name): # user1.check_name('김대위')\n",
    "        # 파라미터로 받는 name이 유저의 이름과 같은지 불린으로 리턴하는 메소드\n",
    "        return self.name == name\n",
    "        # self.name 과 파라미터 name은 확실하게 구분된느 것이기 때문에 문제 없음\n",
    "        # 각각에 들어가는 값들이 다르기 때문에 문자가 같다고만 해서 틀리다 생각하면 안됨\n",
    "            \n",
    "user1 = User()\n",
    "user2 = User()\n",
    "\n",
    "user1.name = '김대위' \n",
    "user1.email = 'abcd@naver.com'\n",
    "user1.password = '12345'\n",
    "\n",
    "user2.name = '박대위' \n",
    "user2.email = 'sfsdfsd@naver.com'\n",
    "user2.password = '12345555'\n",
    "\n",
    "print(user1.check_name('김대위'))"
   ]
  },
  {
   "cell_type": "markdown",
   "id": "36a32b25",
   "metadata": {},
   "source": [
    "# __init__ 메소드\n",
    " - 이름 앞뒤로 언더바가 2개씩 있는 메소드를 특수메소드(magic method)\n",
    " - 특정 상황에서 자동으로 호출되는 메소드\n",
    " - **인스턴스가 생성될 때 자동으로 호출**\n",
    " - **인스턴스 생성과 초기값 설정을 한 줄 에 할 수 있다는 편의성**"
   ]
  },
  {
   "cell_type": "code",
   "execution_count": 2,
   "id": "226462fe",
   "metadata": {},
   "outputs": [
    {
     "name": "stdout",
     "output_type": "stream",
     "text": [
      "Young young@codeit.kr 123456\n",
      "Yoonsoo yoonsoo@codeit.kr abcdef\n",
      "Taeho taeho@codeit.kr 123abc\n",
      "Lisa lisa@codeit.kr abc123\n"
     ]
    }
   ],
   "source": [
    "class User:\n",
    "    # def initialize(self, name, email, password):\n",
    "    def __init__(self, name, email, password):\n",
    "        self.name = name\n",
    "        self.email = email\n",
    "        self.password = password\n",
    "        return\n",
    "\n",
    "# 인스턴스를 생성하는 코드를 조금 더 줄일 수는 없을까?\n",
    "# user1 = User()\n",
    "# user1.initialize(\"Young\", \"young@codeit.kr\", \"123456\")\n",
    "\n",
    "# user2 = User()\n",
    "# user2.initialize(\"Yoonsoo\", \"yoonsoo@codeit.kr\", \"abcdef\")\n",
    "\n",
    "# user3 = User()\n",
    "# User.initialize(user3, \"Taeho\", \"taeho@codeit.kr\", \"123abc\")\n",
    "\n",
    "# user4 = User()\n",
    "# User.initialize(user4, \"Lisa\", \"lisa@codeit.kr\", \"abc123\")\n",
    "\n",
    "user1 = User(\"Young\", \"young@codeit.kr\", \"123456\")\n",
    "# 1. User 인스턴스 생성\n",
    "# 2. init 메소드 자동 호출\n",
    "# 3. 괄호 안의 파라미터가 init 함수로 자동으로 들어감\n",
    "\n",
    "user2 = User(\"Yoonsoo\", \"yoonsoo@codeit.kr\", \"abcdef\")\n",
    "user3 = User(\"Taeho\", \"taeho@codeit.kr\", \"123abc\")\n",
    "user4 = User(\"Lisa\", \"lisa@codeit.kr\", \"abc123\")\n",
    "\n",
    "print(user1.name, user1.email, user1.password)\n",
    "print(user2.name, user2.email, user2.password)\n",
    "print(user3.name, user3.email, user3.password)\n",
    "print(user4.name, user4.email, user4.password)\n"
   ]
  },
  {
   "cell_type": "markdown",
   "id": "dd82056e",
   "metadata": {},
   "source": [
    "# __str__ 메소드\n",
    "- 더블 언더스코어(double underscore) == 던더(dunder) 메소드라고 부름\n",
    "- **print함수를 호출할 때 자동으로 실행**"
   ]
  },
  {
   "cell_type": "code",
   "execution_count": 4,
   "id": "2ee7b52b",
   "metadata": {},
   "outputs": [
    {
     "name": "stdout",
     "output_type": "stream",
     "text": [
      "사용자: Young, 이메일: young@codeit.kr, 비밀번호: ******\n",
      "사용자: Yoonsoo, 이메일: yoonsoo@codeit.kr, 비밀번호: ******\n"
     ]
    }
   ],
   "source": [
    "class User:\n",
    "    # def initialize(self, name, email, password):\n",
    "    def __init__(self, name,email, password):\n",
    "        self.name = name\n",
    "        self.email = email\n",
    "        self.password = password\n",
    "        return\n",
    "    \n",
    "    def __str__(self): # 던더 str\n",
    "        return '사용자: {}, 이메일: {}, 비밀번호: ******'.format(self.name, self.email)\n",
    "\n",
    "user1 = User(\"Young\", \"young@codeit.kr\", \"123456\")\n",
    "user2 = User(\"Yoonsoo\", \"yoonsoo@codeit.kr\", \"abcdef\")\n",
    "\n",
    "print(user1)\n",
    "print(user2)\n",
    "# 출력물\n",
    "# <__main__.User object at 0x0000012773E43EE0>  같이 메모리 주소만 나옴\n",
    "# 원하는 정보를 얻기 위해 __str__ 메소드 사용"
   ]
  },
  {
   "cell_type": "markdown",
   "id": "5dcac05c",
   "metadata": {},
   "source": [
    "# 클래스 변수\n",
    " - **한 클래스의 모든 인스턴스가 공유하는 속성이 있는 경우 사용한다.**\n",
    " \n",
    " - 클래스 밑에 정의해주면 된다."
   ]
  },
  {
   "cell_type": "code",
   "execution_count": 6,
   "id": "e1b03610",
   "metadata": {},
   "outputs": [
    {
     "name": "stdout",
     "output_type": "stream",
     "text": [
      "3\n"
     ]
    }
   ],
   "source": [
    "class User:\n",
    "    count = 0\n",
    "    \n",
    "    def __init__(self, name,email, password):\n",
    "        self.name = name\n",
    "        self.email = email\n",
    "        self.password = password\n",
    "        # 인스턴스를 생성할 때마다 count를 늘려주고 싶다면?\n",
    "        User.count += 1\n",
    "        return\n",
    "\n",
    "user1 = User(\"Young\", \"young@codeit.kr\", \"123456\")\n",
    "user2 = User(\"Yoonsoo\", \"yoonsoo@codeit.kr\", \"abcdef\")\n",
    "user3 = User(\"Taeho\", \"taeho@codeit.kr\", \"123abc\")\n",
    "\n",
    "print(User.count) # init으로 인스턴스 1개씩 생성할 때마다 증가시킴"
   ]
  },
  {
   "cell_type": "markdown",
   "id": "17db406e",
   "metadata": {},
   "source": [
    "### 클래스 변수를 읽거나 설정하는 법\n",
    " - 같은 이름의 클래스변수 VS 같은 이름의 인스턴스 변수\n",
    " - 인스턴스 변수를 먼저 읽는다/.\n",
    " - 클래스 변수를 읽을 때는 인스턴스 이름이든 클래스 이름이든 뭘 입력해도 출력이 된다.\n",
    " - 하지만!!!\n",
    " - **클래스 변수를 설정할 때는 헷갈리기 때문에 꼭 클래스 이름으로만 설정한다.**\n",
    "  - ***클래스이름.클래스변수***\n",
    "  - 인스턴스이름.클래스변수 (이것도 가능하지만 헥갈릴 우려가 있어서 지양)"
   ]
  },
  {
   "cell_type": "code",
   "execution_count": 24,
   "id": "a9e6f2c4",
   "metadata": {},
   "outputs": [
    {
     "name": "stdout",
     "output_type": "stream",
     "text": [
      "3\n",
      "5\n",
      "3\n",
      "3\n"
     ]
    }
   ],
   "source": [
    "class User:\n",
    "    count = 0\n",
    "    \n",
    "    def __init__(self, name,email, password):\n",
    "        self.name = name\n",
    "        self.email = email\n",
    "        self.password = password\n",
    "        # 인스턴스를 생성할 때마다 count를 늘려주고 싶다면?\n",
    "        User.count += 1\n",
    "        return\n",
    "\n",
    "user1 = User(\"Young\", \"young@codeit.kr\", \"123456\")\n",
    "user2 = User(\"Yoonsoo\", \"yoonsoo@codeit.kr\", \"abcdef\")\n",
    "user3 = User(\"Taeho\", \"taeho@codeit.kr\", \"123abc\")\n",
    "\n",
    "# user1.count 를 바꿔준다면?\n",
    "# 클래스 변수 값을 바꿔주는게 아니라 인스턴스 변수를 바꿔줌\n",
    "\n",
    "user1.count = 5 # 인스턴스 변수를 정의하는 문장(클래스변수를 설정하는게 아님)\n",
    "                # 그저 같은 이름의 인스턴트 변수가 생성된 것.\n",
    "                # 이게 헷갈려서 클래스 변수는 꼭 클래스이름으로만 설정하는 것.\n",
    "\n",
    "User.count = 3\n",
    "\n",
    "print(User.count)\n",
    "# 클래스 말고 인스턴스 변수를 쓴다면?\n",
    "print(user1.count)\n",
    "print(user2.count)\n",
    "print(user3.count)"
   ]
  },
  {
   "cell_type": "markdown",
   "id": "a43340c6",
   "metadata": {},
   "source": [
    "# 데코레이터\n",
    "- 어떤 함수르 꾸며서 새로운 함수를 만드는 것"
   ]
  },
  {
   "cell_type": "code",
   "execution_count": 18,
   "id": "c25234f2",
   "metadata": {},
   "outputs": [
    {
     "name": "stdout",
     "output_type": "stream",
     "text": [
      "함수시작\n",
      "안녕하세요\n",
      "함수 끝\n"
     ]
    }
   ],
   "source": [
    "# 어떤 함수를 받아서 또 다른 함수를 리턴하는 함수\n",
    "# add_print_to 함수 = 데코레이터 함수\n",
    "def add_print_to(original): # original == print_hello\n",
    "    def wrapper():\n",
    "        print('함수시작') # 부가기능\n",
    "        original() # print_hello()\n",
    "        print('함수 끝') # 부가기능 ; original을 꾸며준다.\n",
    "    return wrapper\n",
    "\n",
    "@add_print_to \n",
    "# print_hello를 add_print_to 로 꾸며주라는 말\n",
    "def print_hello(): # print_hello = add_print_to(print_hello)의 기능을 하는 것\n",
    "    print('안녕하세요')\n",
    "    \n",
    "    \n",
    "add_print_to(print_hello) # wrapper함수를 리턴해주기만 하는 것 그래서 출력값이 안나옴\n",
    "#add_print_to(print_hello)()\n",
    "\n",
    "# 조금 더 깔끔하게 고치기\n",
    "# print_hello = add_print_to(print_hello)\n",
    "\n",
    "print_hello() # @데코레이터 함수를 통해 한 문장만 써도 가능\n",
    "\n",
    "\n"
   ]
  },
  {
   "cell_type": "markdown",
   "id": "9b172111",
   "metadata": {},
   "source": [
    "# 클래스 메소드\n",
    " - 인스턴스 메소드 : 인스턴스 변수 값을 읽거나 설정하는 메소드 (인스턴스 변수를 사용할 때)\n",
    " - 클래스 메소드 : ***클래스 변수***의 값을 읽거나 설정하는 메소드 (클래스 변수를 사용할 때)\n",
    " - 둘 다 쓴다면> ==> 인스턴스 메소드 쓴다(인스턴스변수, 클래스 변수 둘 다 사용가능)\n",
    " - 클래스 메소드는 인스턴스 변수 사용 불가\n",
    " - **클래스 메소드는 첫번째 파라미터 이름을 꼭 cls라고 한다.**\n",
    " - 메소드 내에서 클래스 명을 넘겨받을 것이기 때문(cls라는 그릇이라고 생각)"
   ]
  },
  {
   "cell_type": "code",
   "execution_count": 20,
   "id": "62385e12",
   "metadata": {},
   "outputs": [
    {
     "name": "stdout",
     "output_type": "stream",
     "text": [
      "총 유저 수는 3입니다.\n",
      "총 유저 수는 3입니다.\n"
     ]
    }
   ],
   "source": [
    "class User:\n",
    "    count = 0\n",
    "    \n",
    "    def __init__(self, name,email, password):\n",
    "        self.name = name\n",
    "        self.email = email\n",
    "        self.password = password\n",
    "        \n",
    "        User.count += 1\n",
    "        return\n",
    "    \n",
    "    def say_hello(self):\n",
    "        print('안녕하세요 저는 {}입니다.'.format(self.name))\n",
    "        return\n",
    "    \n",
    "    def __str__(self):\n",
    "        return '사용자: {}, 이메일: {}, 비밀번호: *******'.format(self.name, self.email)\n",
    "    \n",
    "    @classmethod\n",
    "    def number_of_users(cls):\n",
    "    # 클래스 메소드는 첫번째 파라미터 이름을 꼭 cls라고 한다.    \n",
    "    # cls.count == User.count\n",
    "        print('총 유저 수는 {}입니다.'.format(cls.count)) \n",
    "\n",
    "user1 = User(\"Young\", \"young@codeit.kr\", \"123456\")\n",
    "user2 = User(\"Yoonsoo\", \"yoonsoo@codeit.kr\", \"abcdef\")\n",
    "user3 = User(\"Taeho\", \"taeho@codeit.kr\", \"123abc\")\n",
    "\n",
    "# 둘 다 똑같은 값이 나오는 이유는\n",
    "# classmethod를 통해서 둘 다 클래스를 파라미터로 넣기 때문이다.\n",
    "User.number_of_users()\n",
    "user1.number_of_users()"
   ]
  },
  {
   "cell_type": "markdown",
   "id": "5ca1f974",
   "metadata": {},
   "source": [
    "#### 클래스 메소드 말고 인스턴스 메소드를 쓰면 안되는 건가? ==> 된다."
   ]
  },
  {
   "cell_type": "code",
   "execution_count": 21,
   "id": "b9735f15",
   "metadata": {},
   "outputs": [
    {
     "name": "stdout",
     "output_type": "stream",
     "text": [
      "총 유저 수는 3입니다.\n",
      "총 유저 수는 3입니다.\n"
     ]
    }
   ],
   "source": [
    "# 인스턴스 메소드를 사용할 때\n",
    "class User:\n",
    "    count = 0\n",
    "    \n",
    "    def __init__(self, name,email, password):\n",
    "        self.name = name\n",
    "        self.email = email\n",
    "        self.password = password\n",
    "        \n",
    "        User.count += 1\n",
    "        return\n",
    "    \n",
    "    def say_hello(self):\n",
    "        print('안녕하세요 저는 {}입니다.'.format(self.name))\n",
    "        return\n",
    "    \n",
    "    def __str__(self):\n",
    "        return '사용자: {}, 이메일: {}, 비밀번호: *******'.format(self.name, self.email)\n",
    "    \n",
    "#     @classmethod\n",
    "#     def number_of_users(cls):\n",
    "#     # 클래스 메소드는 첫번째 파라미터 이름을 꼭 cls라고 한다.    \n",
    "#     # cls.count == User.count\n",
    "#         print('총 유저 수는 {}입니다.'.format(cls.count)) \n",
    "\n",
    "# 그냥 인스턴스 메소드 쓰면 안되나? ==> 된다.\n",
    "    def number_of_users(self):\n",
    "        print('총 유저 수는 {}입니다.'.format(User.count)) \n",
    "\n",
    "user1 = User(\"Young\", \"young@codeit.kr\", \"123456\")\n",
    "user2 = User(\"Yoonsoo\", \"yoonsoo@codeit.kr\", \"abcdef\")\n",
    "user3 = User(\"Taeho\", \"taeho@codeit.kr\", \"123abc\")\n",
    "\n",
    "User.number_of_users(user1)\n",
    "user1.number_of_users()"
   ]
  },
  {
   "cell_type": "markdown",
   "id": "8cc38e88",
   "metadata": {},
   "source": [
    "#### 인스턴스가 없어도 클래스 메소드를 사용할 것 같다면 있어야 한다.\n",
    "#### count가 0일 때도 표현을 해야하기 때문"
   ]
  },
  {
   "cell_type": "code",
   "execution_count": 22,
   "id": "d818597b",
   "metadata": {},
   "outputs": [
    {
     "name": "stdout",
     "output_type": "stream",
     "text": [
      "총 유저 수는 0입니다.\n",
      "총 유저 수는 0입니다.\n"
     ]
    }
   ],
   "source": [
    "class User:\n",
    "    count = 0\n",
    "    \n",
    "    def __init__(self, name,email, password):\n",
    "        self.name = name\n",
    "        self.email = email\n",
    "        self.password = password\n",
    "        \n",
    "        User.count += 1\n",
    "        return\n",
    "    \n",
    "    def say_hello(self):\n",
    "        print('안녕하세요 저는 {}입니다.'.format(self.name))\n",
    "        return\n",
    "    \n",
    "    def __str__(self):\n",
    "        return '사용자: {}, 이메일: {}, 비밀번호: *******'.format(self.name, self.email)\n",
    "    \n",
    "    @classmethod\n",
    "    def number_of_users(cls):\n",
    "        print('총 유저 수는 {}입니다.'.format(cls.count)) \n",
    "\n",
    "User.number_of_users()\n",
    "user1.number_of_users()"
   ]
  },
  {
   "cell_type": "markdown",
   "id": "a31888d1",
   "metadata": {},
   "source": [
    "# 클래스 메소드 예제"
   ]
  },
  {
   "cell_type": "code",
   "execution_count": 1,
   "id": "f91e0d44",
   "metadata": {},
   "outputs": [
    {
     "name": "stdout",
     "output_type": "stream",
     "text": [
      "강영훈 younghoon@codeit.kr 123456\n",
      "이윤수 yoonsoo@codeit.kr abcdef\n"
     ]
    }
   ],
   "source": [
    "class User:\n",
    "    def __init__(self, name, email, password):\n",
    "        self.name = name\n",
    "        self.email = email\n",
    "        self.password = password\n",
    "\n",
    "    @classmethod\n",
    "    def from_string(cls, string_params):\n",
    "        # 코드를 쓰세요\n",
    "        params_list = string_params.split(\",\")\n",
    "        \n",
    "        name = params_list[0]\n",
    "        email = params_list[1]\n",
    "        password = params_list[2]\n",
    "        \n",
    "        return cls(name, email, password) \n",
    "        #  User(name, email, password)와 같다는 걸 기억\n",
    "\n",
    "    @classmethod\n",
    "    def from_list(cls, list_params):\n",
    "        # 코드를 쓰세요\n",
    "        name = list_params[0]\n",
    "        email = list_params[1]\n",
    "        password = list_params[2]\n",
    "        \n",
    "        return cls(name, email, password)\n",
    "        \n",
    "# 유저 생성 및 초기값 설정\n",
    "younghoon = User.from_string(\"강영훈,younghoon@codeit.kr,123456\")\n",
    "# younghoon = User('강영훈','younghoon@codeit.kr','123456')\n",
    "yoonsoo = User.from_list([\"이윤수\", \"yoonsoo@codeit.kr\", \"abcdef\"])\n",
    "# yoonsoo = User('이윤수','yoonsoo@codeit.kr','abcdef')\n",
    "\n",
    "print(younghoon.name, younghoon.email, younghoon.password)\n",
    "print(yoonsoo.name, yoonsoo.email, yoonsoo.password)"
   ]
  },
  {
   "cell_type": "markdown",
   "id": "9aeb1b75",
   "metadata": {},
   "source": [
    "# 정적 메소드\n",
    " - 인스턴스 변수, 클래스 변수를 전혀 다루지 않는 메소드\n",
    " - 단지 기능(행동)저인 역할만 하는 메소드를 정의할 때 사용"
   ]
  },
  {
   "cell_type": "code",
   "execution_count": 2,
   "id": "6792907c",
   "metadata": {},
   "outputs": [],
   "source": [
    "# 정적 메소드    \n",
    "@staticmethod\n",
    "def is_valid_email(email_address):\n",
    "    return \"@\" in email_address"
   ]
  },
  {
   "cell_type": "markdown",
   "id": "dd2ad103",
   "metadata": {},
   "source": [
    "# 클래스 상속\n",
    " - 처음부터 클래스를 만들 수도 있지만 이미 만들어진 클래스의 변수와 함수를 그대로 이어 받고 새로운 내용만 추가해서 클래스 선언할 수 있음\n",
    " - 부모(슈퍼) 클래스 - 자식(서브) 클래스<br>\n",
    "**class 자식클래스 이름(부모 클래스 이름):** <br>\n",
    " - 부모클래스 함수 호출할 때 <br>\n",
    "**부모클래스이름().함수명() / super().함수명()**<br>\n",
    "**super()를 이용할 때는 self 파라미터 빼고 사용해야한다.**\n"
   ]
  },
  {
   "cell_type": "code",
   "execution_count": 3,
   "id": "8c571119",
   "metadata": {},
   "outputs": [],
   "source": [
    "class Bicycle():\n",
    "    def __init__(self, wheel_size, color):\n",
    "        self.wheel_size = wheel_size\n",
    "        self.color = color\n",
    "        \n",
    "    def move(self, speed):\n",
    "        print('자전거 : 시속 {0}킬로미터 전진'.format(speed))\n",
    "        \n",
    "    def turn(self, direction):\n",
    "        print('자전거 {0}회전'.format(direction))\n",
    "        \n",
    "    def stop(self):\n",
    "        print('자전거 {0} {1} 정지'.format(self.wheel_size, self.color))"
   ]
  },
  {
   "cell_type": "code",
   "execution_count": 5,
   "id": "12504e46",
   "metadata": {},
   "outputs": [
    {
     "ename": "SyntaxError",
     "evalue": "invalid syntax (<ipython-input-5-190e766e7db1>, line 16)",
     "output_type": "error",
     "traceback": [
      "\u001b[1;36m  File \u001b[1;32m\"<ipython-input-5-190e766e7db1>\"\u001b[1;36m, line \u001b[1;32m16\u001b[0m\n\u001b[1;33m    \"\"ㄴㅇㄹㄴㅇㄴㅇㄴ\"\"\"\"\u001b[0m\n\u001b[1;37m      ^\u001b[0m\n\u001b[1;31mSyntaxError\u001b[0m\u001b[1;31m:\u001b[0m invalid syntax\n"
     ]
    }
   ],
   "source": [
    "class FoldingBicycle(Bicycle):\n",
    "    \n",
    "    def __init__(self, wheel_size, color, state): # FoldingBicycle 초기화\n",
    "        Bicycle.__init__(self, wheel_size, color) # Bicycle의 초기화 재사용\n",
    "        #super().__init__(wheel_size, color) # super()도 사용가능\n",
    "                                             # super는 self 빼고 사용한다.\n",
    "        self.state = state # 자식 클래스에서 새로 추가한 변수\n",
    "        \n",
    "    def fold(self):\n",
    "        self.state = 'folding'\n",
    "        print('자전거 접기 state = {0}'.format(self.state))\n",
    "        \n",
    "    def unfold(self):\n",
    "        self.state = 'unfolding'\n",
    "        print('자저거 펴기 state = {0}'.format(self.state))"
   ]
  }
 ],
 "metadata": {
  "kernelspec": {
   "display_name": "Python 3",
   "language": "python",
   "name": "python3"
  },
  "language_info": {
   "codemirror_mode": {
    "name": "ipython",
    "version": 3
   },
   "file_extension": ".py",
   "mimetype": "text/x-python",
   "name": "python",
   "nbconvert_exporter": "python",
   "pygments_lexer": "ipython3",
   "version": "3.8.8"
  }
 },
 "nbformat": 4,
 "nbformat_minor": 5
}
