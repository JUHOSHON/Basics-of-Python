{
 "cells": [
  {
   "cell_type": "markdown",
   "id": "42734bf1",
   "metadata": {},
   "source": [
    "# 변수, 변수의 유효범위"
   ]
  },
  {
   "cell_type": "code",
   "execution_count": 1,
   "id": "2b34119f",
   "metadata": {},
   "outputs": [
    {
     "name": "stdout",
     "output_type": "stream",
     "text": [
      "func1 지역변수 a =  1\n",
      "func2 지역변수 a =  2\n",
      "func3 전역변수 a =  5\n",
      "func4 전역변수 a =  4\n",
      "func3 전역변수 a =  4\n"
     ]
    }
   ],
   "source": [
    "a = 5 # 전역변수\n",
    "\n",
    "def func1():\n",
    "    a = 1 # 지역변수 func1 안에서만 사용\n",
    "    print('func1 지역변수 a = ', a)\n",
    "    \n",
    "def func2():\n",
    "    a = 2 # 지역변수 func2 안에서만 사용\n",
    "    print('func2 지역변수 a = ', a)\n",
    "\n",
    "def func3():\n",
    "    print('func3 전역변수 a = ', a)\n",
    "    \n",
    "def func4():\n",
    "    global a # 전역변수를 선언했는데\n",
    "    a = 4 # 그 전역변수의 값을 변경한다.\n",
    "    print('func4 전역변수 a = ', a)\n",
    "    \n",
    "func1()\n",
    "func2()\n",
    "func3()\n",
    "func4()\n",
    "func3()"
   ]
  },
  {
   "cell_type": "markdown",
   "id": "5063a060",
   "metadata": {},
   "source": [
    "# 연산자"
   ]
  },
  {
   "cell_type": "markdown",
   "id": "5fa3309f",
   "metadata": {},
   "source": [
    "###### ** 거듭제곱\n",
    "###### / 나누기\n",
    "###### // 나누기 후 소수점을 버리고 정수만 구함\n",
    "###### % 나머지"
   ]
  },
  {
   "cell_type": "markdown",
   "id": "cd5472c6",
   "metadata": {},
   "source": [
    "파이썬은 10진법 외에도 2진법, 8진법, 16진법으로 표현 가능<br>\n",
    "예) 17을 표현 \n",
    "* 2진수 0b10001  bin()\n",
    "* 8진수 0o21     oct()\n",
    "* 16진수 0x11    hex()\n",
    "\n",
    "2, 8, 16 진법을 10진수를 표현하는 법 <br>\n",
    "int(\"수\", 진법) ---- int('0b100101\", 2) --> 37"
   ]
  },
  {
   "cell_type": "markdown",
   "id": "09a7d993",
   "metadata": {},
   "source": [
    "# 과학적 표기법"
   ]
  },
  {
   "cell_type": "markdown",
   "id": "b19fa087",
   "metadata": {},
   "source": [
    "10의 거듭제곱의 표현 : en (en앞에는 항상 숫자가 있어야 함) <br>\n",
    "3e8 <br> \n",
    "1e15 <br>\n",
    "1e-4 <br>"
   ]
  },
  {
   "cell_type": "markdown",
   "id": "c2281396",
   "metadata": {},
   "source": [
    "## return과 print"
   ]
  },
  {
   "cell_type": "markdown",
   "id": "cfd4901d",
   "metadata": {},
   "source": [
    "파라미터 : 함수에 넘겨주는 값\n",
    "\n",
    "예) get_square(x)의 x값"
   ]
  },
  {
   "cell_type": "markdown",
   "id": "b5c8c6a0",
   "metadata": {},
   "source": [
    "return : 함수가 값을 돌려준다 + 함수를 즉시 종료<br>\n",
    "**함수에서만 쓸 수 있다.**"
   ]
  },
  {
   "cell_type": "code",
   "execution_count": 2,
   "id": "ca8056ca",
   "metadata": {},
   "outputs": [
    {
     "data": {
      "text/plain": [
       "9"
      ]
     },
     "execution_count": 2,
     "metadata": {},
     "output_type": "execute_result"
    }
   ],
   "source": [
    "def get_square(x):\n",
    "    return x * x\n",
    "\n",
    "get_square(3) # print 한게 아니라 계산값을 가지고 있는 것"
   ]
  },
  {
   "cell_type": "code",
   "execution_count": 3,
   "id": "6fb76d39",
   "metadata": {},
   "outputs": [
    {
     "name": "stdout",
     "output_type": "stream",
     "text": [
      "9\n"
     ]
    }
   ],
   "source": [
    "print(get_square(3))"
   ]
  },
  {
   "cell_type": "code",
   "execution_count": 4,
   "id": "3ca3e3b8",
   "metadata": {},
   "outputs": [],
   "source": [
    "# return과 print 차이\n",
    "def print_square(x):\n",
    "    print(x * x)\n",
    "\n",
    "def get_square(x):\n",
    "    return x * x"
   ]
  },
  {
   "cell_type": "code",
   "execution_count": 5,
   "id": "6f07fc86",
   "metadata": {},
   "outputs": [
    {
     "name": "stdout",
     "output_type": "stream",
     "text": [
      "9\n",
      "None\n"
     ]
    }
   ],
   "source": [
    "print(print_square(3))\n",
    "# print_square 함수가 한차례 실행되고\n",
    "# 리턴 값이 없기 때문에 print 안에 값이 none이 된다."
   ]
  },
  {
   "cell_type": "code",
   "execution_count": null,
   "id": "432f50bc",
   "metadata": {},
   "outputs": [],
   "source": []
  }
 ],
 "metadata": {
  "kernelspec": {
   "display_name": "Python 3",
   "language": "python",
   "name": "python3"
  },
  "language_info": {
   "codemirror_mode": {
    "name": "ipython",
    "version": 3
   },
   "file_extension": ".py",
   "mimetype": "text/x-python",
   "name": "python",
   "nbconvert_exporter": "python",
   "pygments_lexer": "ipython3",
   "version": "3.8.8"
  }
 },
 "nbformat": 4,
 "nbformat_minor": 5
}
