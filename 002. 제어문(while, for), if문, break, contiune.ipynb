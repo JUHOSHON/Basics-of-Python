{
 "cells": [
  {
   "cell_type": "markdown",
   "id": "a63f4c68",
   "metadata": {},
   "source": [
    "# while 문"
   ]
  },
  {
   "cell_type": "markdown",
   "id": "4a78d4bf",
   "metadata": {},
   "source": [
    "while 조건부분:\n",
    "\n",
    "    수행부분(조건이 False 일 때까지 실행)"
   ]
  },
  {
   "cell_type": "code",
   "execution_count": 1,
   "id": "1a1b817d",
   "metadata": {},
   "outputs": [
    {
     "name": "stdout",
     "output_type": "stream",
     "text": [
      "1\n",
      "1\n",
      "1\n"
     ]
    }
   ],
   "source": [
    "i = 1\n",
    "while i <= 3:\n",
    "    print('1')\n",
    "    i += 1"
   ]
  },
  {
   "cell_type": "markdown",
   "id": "ba54dd8d",
   "metadata": {},
   "source": [
    "# for문"
   ]
  },
  {
   "cell_type": "code",
   "execution_count": 2,
   "id": "a9f7b69b",
   "metadata": {},
   "outputs": [
    {
     "name": "stdout",
     "output_type": "stream",
     "text": [
      "2\n",
      "3\n",
      "5\n",
      "7\n",
      "11\n"
     ]
    }
   ],
   "source": [
    "my_list = [2, 3, 5, 7, 11]\n",
    "for number in my_list: # 가장먼저 2가 number에 지정되고 순자척으로 3, 5, 6, 11이 지정\n",
    "    print(number) # number는 지어주고 싶은 이름"
   ]
  },
  {
   "cell_type": "code",
   "execution_count": 3,
   "id": "8d8576bf",
   "metadata": {},
   "outputs": [
    {
     "name": "stdout",
     "output_type": "stream",
     "text": [
      "C\n",
      "O\n",
      "D\n",
      "E\n",
      "I\n",
      "T\n"
     ]
    }
   ],
   "source": [
    "# 알파벳 리스트의 반복문\n",
    "alphabets_list = ['C', 'O', 'D', 'E', 'I', 'T']\n",
    "for alphabet in alphabets_list:\n",
    "    print(alphabet)"
   ]
  },
  {
   "cell_type": "code",
   "execution_count": 4,
   "id": "1d7c211e",
   "metadata": {},
   "outputs": [
    {
     "name": "stdout",
     "output_type": "stream",
     "text": [
      "C\n",
      "O\n",
      "D\n",
      "E\n",
      "I\n",
      "T\n"
     ]
    }
   ],
   "source": [
    "# 알파벳 문자열의 반복문\n",
    "alphabets_string = 'CODEIT'\n",
    "for alphabet in alphabets_string:\n",
    "    print(alphabet)\n"
   ]
  },
  {
   "cell_type": "markdown",
   "id": "a3376cc1",
   "metadata": {},
   "source": [
    "# zip 함수\n",
    "- 길이가 같은 리스트가 여러 개 있는 경우 for문을 이용해도 되지만\n",
    "- 같은 길이의 데이터를 하나로 묶어주는 zip 함수를 이용해\n",
    "- <반복범위>를 지정하고 데이터별로 <반복변수>를 지정해 이용할 수 있다.\n",
    "- for var1, var2 in zip(list1, list2):\n",
    "- zip 함수를 이용해 for문을 구성하면\n",
    "- <반복범위>인 zip 안에 있는 list1과 list2의 항목이 각각 순서대로 동시에 <반복변수> 인 var1, var2에 대입되고 코드를 수행"
   ]
  },
  {
   "cell_type": "code",
   "execution_count": 5,
   "id": "3ad56928",
   "metadata": {},
   "outputs": [
    {
     "name": "stdout",
     "output_type": "stream",
     "text": [
      "제임스 95\n",
      "로버트 96\n",
      "리사 97\n",
      "메리 94\n"
     ]
    }
   ],
   "source": [
    "names = ['제임스', '로버트', '리사', '메리']\n",
    "scores = [95, 96, 97, 94]\n",
    "\n",
    "for name, score in zip(names, scores):\n",
    "    print(name, score)"
   ]
  },
  {
   "cell_type": "markdown",
   "id": "79cdb5c6",
   "metadata": {},
   "source": [
    "# range 함수"
   ]
  },
  {
   "cell_type": "code",
   "execution_count": 7,
   "id": "33912acb",
   "metadata": {},
   "outputs": [
    {
     "ename": "IndentationError",
     "evalue": "expected an indented block (<ipython-input-7-70dab08ecfc5>, line 3)",
     "output_type": "error",
     "traceback": [
      "\u001b[1;36m  File \u001b[1;32m\"<ipython-input-7-70dab08ecfc5>\"\u001b[1;36m, line \u001b[1;32m3\u001b[0m\n\u001b[1;33m    for i in range(stop): #- 0부터 stop-1까지 범위\u001b[0m\n\u001b[1;37m    ^\u001b[0m\n\u001b[1;31mIndentationError\u001b[0m\u001b[1;31m:\u001b[0m expected an indented block\n"
     ]
    }
   ],
   "source": [
    "for i in range(start, stop):\n",
    "\n",
    "for i in range(stop): #- 0부터 stop-1까지 범위\n",
    "\n",
    "for i in range(start, stop, step):"
   ]
  },
  {
   "cell_type": "code",
   "execution_count": 8,
   "id": "6a532b02",
   "metadata": {},
   "outputs": [
    {
     "name": "stdout",
     "output_type": "stream",
     "text": [
      "2\n",
      "3\n",
      "5\n",
      "7\n",
      "11\n"
     ]
    }
   ],
   "source": [
    "# while문으로 한다면\n",
    "i = 0\n",
    "while i < len(my_list):\n",
    "    print(my_list[i])\n",
    "    i += 1"
   ]
  },
  {
   "cell_type": "markdown",
   "id": "dec47339",
   "metadata": {},
   "source": [
    "# if문"
   ]
  },
  {
   "cell_type": "markdown",
   "id": "09cf031d",
   "metadata": {},
   "source": [
    "### elif 구조만 참고\n",
    "if 점수 90이상:\n",
    "\n",
    "    a를 준다\n",
    "    \n",
    "elif 점수가 80이상이다:\n",
    "\n",
    "    b를 준다\n",
    "    \n",
    "elif 점수가 70이상이다:\n",
    "\n",
    "    c를 준다\n",
    "    \n",
    "else:\n",
    "\n",
    "    f를 준다"
   ]
  },
  {
   "cell_type": "markdown",
   "id": "ba7298dc",
   "metadata": {},
   "source": [
    "## break문"
   ]
  },
  {
   "cell_type": "markdown",
   "id": "31b6a3bc",
   "metadata": {},
   "source": [
    "특정 조건을 만족할 때 <br>\n",
    "while문의 조건부분과 상관없이 반복문에서 나오고 싶을 때 사용"
   ]
  },
  {
   "cell_type": "code",
   "execution_count": 9,
   "id": "c5a6f1de",
   "metadata": {},
   "outputs": [
    {
     "name": "stdout",
     "output_type": "stream",
     "text": [
      "115\n"
     ]
    }
   ],
   "source": [
    "i = 100\n",
    "\n",
    "while True:\n",
    "    # i가 23의 배수면 반복문을 끝냄\n",
    "    if i % 23 == 0:\n",
    "        break\n",
    "    i = i + 1\n",
    "\n",
    "print(i)"
   ]
  },
  {
   "cell_type": "markdown",
   "id": "1febee8f",
   "metadata": {},
   "source": [
    "## continue 문"
   ]
  },
  {
   "cell_type": "markdown",
   "id": "ec1847d6",
   "metadata": {},
   "source": [
    "반복문 안에서 continue를 만나면 반복문의 처음으로 돌아가서 다음 반복을 진행<br>\n",
    "현재 진행되고 있는 수행부분을 중단하고 바로 조건 부분을 확인하고 싶을 때 사용"
   ]
  },
  {
   "cell_type": "code",
   "execution_count": 10,
   "id": "ee839933",
   "metadata": {},
   "outputs": [
    {
     "name": "stdout",
     "output_type": "stream",
     "text": [
      "2\n",
      "4\n",
      "6\n",
      "8\n",
      "10\n",
      "12\n",
      "14\n"
     ]
    }
   ],
   "source": [
    "i = 0\n",
    "\n",
    "while i < 15:\n",
    "    i = i + 1\n",
    "\n",
    "    # i가 홀수면 print(i) 안 하고 바로 조건 부분으로 돌아감\n",
    "    if i % 2 == 1:\n",
    "        continue\n",
    "    print(i)"
   ]
  },
  {
   "cell_type": "markdown",
   "id": "f441a784",
   "metadata": {},
   "source": [
    "# end\n",
    "- 두 줄로 출력된 결과를 한 줗로 출력하려면 print()함수 안에 라인 끝의 값을 지정할 수 있는 end인자 추가\n",
    "- print 함수에서 end 인자를 지정하지 않으면 기본적으로 라인 끝에 \\n이 들어감\n",
    "- \\n 대신 다른 문자열을 입력하려면 end = '문자열' 형태로 다른 값 입력"
   ]
  },
  {
   "cell_type": "code",
   "execution_count": 11,
   "id": "2e04c036",
   "metadata": {},
   "outputs": [
    {
     "name": "stdout",
     "output_type": "stream",
     "text": [
      "welcome to python\n"
     ]
    }
   ],
   "source": [
    "print('welcome to', end = \" \")\n",
    "print('python')"
   ]
  },
  {
   "cell_type": "code",
   "execution_count": 12,
   "id": "ae947455",
   "metadata": {},
   "outputs": [
    {
     "name": "stdout",
     "output_type": "stream",
     "text": [
      "welcome to\n",
      "python\n"
     ]
    }
   ],
   "source": [
    "print('welcome to', end = '\\n')\n",
    "print('python')"
   ]
  }
 ],
 "metadata": {
  "kernelspec": {
   "display_name": "Python 3",
   "language": "python",
   "name": "python3"
  },
  "language_info": {
   "codemirror_mode": {
    "name": "ipython",
    "version": 3
   },
   "file_extension": ".py",
   "mimetype": "text/x-python",
   "name": "python",
   "nbconvert_exporter": "python",
   "pygments_lexer": "ipython3",
   "version": "3.8.8"
  }
 },
 "nbformat": 4,
 "nbformat_minor": 5
}
