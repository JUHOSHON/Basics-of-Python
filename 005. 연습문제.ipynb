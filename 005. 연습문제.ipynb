{
 "cells": [
  {
   "cell_type": "markdown",
   "id": "be944270",
   "metadata": {},
   "source": [
    "### 사전을 활용한 투표집계\n",
    "빈 사전을 생성하고 -> for문과 if문을 활용해서 <br>\n",
    "투표함의 이름이 사전에 있는 경우(+=1) 없는 경우(=1)를 나누어 코딩"
   ]
  },
  {
   "cell_type": "markdown",
   "id": "c960b64a",
   "metadata": {},
   "source": [
    "# 연습문제\n",
    "효신이는 매년 국회의원 선거 때마다, 성북구에서 집계 도우미 봉사를 하는데요. 작년까지는 표를 손수 세다가, 올해부터는 IT 시대에 더 적합한 솔루션을 개발하려고 합니다.\n",
    "\n",
    "파이썬 리스트 votes에는 성북구민들의 투표 결과가 저장되어 있습니다. 리스트 votes의 정보를 토대로, 사전 vote_counter에 후보별 득표수를 정리하는 것이 목표입니다.\n",
    "\n",
    "예를 들어서 votes가 ['허유나', '서혜선', '허유나']라고 가정하면, vote_counter는 {'허유나': 2, '서혜선': 1}이 되어야 하는 거죠."
   ]
  },
  {
   "cell_type": "code",
   "execution_count": 1,
   "id": "2a3c8afe",
   "metadata": {},
   "outputs": [
    {
     "name": "stdout",
     "output_type": "stream",
     "text": [
      "{'김영자': 11, '강승기': 6, '최만수': 8}\n"
     ]
    }
   ],
   "source": [
    "# 투표 결과 리스트\n",
    "votes = ['김영자', '강승기', '최만수', '김영자', '강승기', '강승기', '최만수', '김영자', \\\n",
    "'최만수', '김영자', '최만수', '김영자', '김영자', '최만수', '최만수', '최만수', '강승기', \\\n",
    "'강승기', '김영자', '김영자', '최만수', '김영자', '김영자', '강승기', '김영자']\n",
    "\n",
    "# 후보별 득표수 사전\n",
    "vote_counter = {}\n",
    "\n",
    "# 리스트 votes를 이용해서 사전 vote_counter를 정리하기\n",
    "for name in votes:\n",
    "    if name not in vote_counter:\n",
    "        vote_counter[name] = 1\n",
    "    else:\n",
    "        vote_counter[name] += 1\n",
    "\n",
    "# 후보별 득표수 출력\n",
    "print(vote_counter)"
   ]
  },
  {
   "cell_type": "markdown",
   "id": "b4fbc91a",
   "metadata": {},
   "source": [
    "# 피보나치 수열"
   ]
  },
  {
   "cell_type": "code",
   "execution_count": 1,
   "id": "bc14011d",
   "metadata": {},
   "outputs": [
    {
     "name": "stdout",
     "output_type": "stream",
     "text": [
      "1\n",
      "1\n",
      "2\n",
      "3\n",
      "5\n",
      "8\n",
      "13\n",
      "21\n",
      "34\n",
      "55\n",
      "89\n",
      "144\n",
      "233\n",
      "377\n",
      "610\n",
      "987\n",
      "1597\n",
      "2584\n",
      "4181\n",
      "6765\n",
      "10946\n",
      "17711\n",
      "28657\n",
      "46368\n",
      "75025\n",
      "121393\n",
      "196418\n",
      "317811\n",
      "514229\n",
      "832040\n",
      "1346269\n",
      "2178309\n",
      "3524578\n",
      "5702887\n",
      "9227465\n",
      "14930352\n",
      "24157817\n",
      "39088169\n",
      "63245986\n",
      "102334155\n",
      "165580141\n",
      "267914296\n",
      "433494437\n",
      "701408733\n",
      "1134903170\n",
      "1836311903\n",
      "2971215073\n",
      "4807526976\n",
      "7778742049\n",
      "12586269025\n"
     ]
    }
   ],
   "source": [
    "previous = 0\n",
    "current = 1\n",
    "i = 1\n",
    "\n",
    "while i <= 50:\n",
    "    print(current)\n",
    "    temp = previous  # previous를 임시 보관소 temp에 저장\n",
    "    previous = current\n",
    "    current = current + temp  # temp에는 기존 previous 값이 저장돼 있음\n",
    "    i += 1"
   ]
  },
  {
   "cell_type": "markdown",
   "id": "8056b436",
   "metadata": {},
   "source": [
    "# 구구단"
   ]
  },
  {
   "cell_type": "code",
   "execution_count": 2,
   "id": "d8b2e5fd",
   "metadata": {},
   "outputs": [
    {
     "name": "stdout",
     "output_type": "stream",
     "text": [
      "1 * 1 = 1\n",
      "1 * 2 = 2\n",
      "1 * 3 = 3\n",
      "1 * 4 = 4\n",
      "1 * 5 = 5\n",
      "1 * 6 = 6\n",
      "1 * 7 = 7\n",
      "1 * 8 = 8\n",
      "1 * 9 = 9\n",
      "2 * 1 = 2\n",
      "2 * 2 = 4\n",
      "2 * 3 = 6\n",
      "2 * 4 = 8\n",
      "2 * 5 = 10\n",
      "2 * 6 = 12\n",
      "2 * 7 = 14\n",
      "2 * 8 = 16\n",
      "2 * 9 = 18\n",
      "3 * 1 = 3\n",
      "3 * 2 = 6\n",
      "3 * 3 = 9\n",
      "3 * 4 = 12\n",
      "3 * 5 = 15\n",
      "3 * 6 = 18\n",
      "3 * 7 = 21\n",
      "3 * 8 = 24\n",
      "3 * 9 = 27\n",
      "4 * 1 = 4\n",
      "4 * 2 = 8\n",
      "4 * 3 = 12\n",
      "4 * 4 = 16\n",
      "4 * 5 = 20\n",
      "4 * 6 = 24\n",
      "4 * 7 = 28\n",
      "4 * 8 = 32\n",
      "4 * 9 = 36\n",
      "5 * 1 = 5\n",
      "5 * 2 = 10\n",
      "5 * 3 = 15\n",
      "5 * 4 = 20\n",
      "5 * 5 = 25\n",
      "5 * 6 = 30\n",
      "5 * 7 = 35\n",
      "5 * 8 = 40\n",
      "5 * 9 = 45\n",
      "6 * 1 = 6\n",
      "6 * 2 = 12\n",
      "6 * 3 = 18\n",
      "6 * 4 = 24\n",
      "6 * 5 = 30\n",
      "6 * 6 = 36\n",
      "6 * 7 = 42\n",
      "6 * 8 = 48\n",
      "6 * 9 = 54\n",
      "7 * 1 = 7\n",
      "7 * 2 = 14\n",
      "7 * 3 = 21\n",
      "7 * 4 = 28\n",
      "7 * 5 = 35\n",
      "7 * 6 = 42\n",
      "7 * 7 = 49\n",
      "7 * 8 = 56\n",
      "7 * 9 = 63\n",
      "8 * 1 = 8\n",
      "8 * 2 = 16\n",
      "8 * 3 = 24\n",
      "8 * 4 = 32\n",
      "8 * 5 = 40\n",
      "8 * 6 = 48\n",
      "8 * 7 = 56\n",
      "8 * 8 = 64\n",
      "8 * 9 = 72\n",
      "9 * 1 = 9\n",
      "9 * 2 = 18\n",
      "9 * 3 = 27\n",
      "9 * 4 = 36\n",
      "9 * 5 = 45\n",
      "9 * 6 = 54\n",
      "9 * 7 = 63\n",
      "9 * 8 = 72\n",
      "9 * 9 = 81\n"
     ]
    }
   ],
   "source": [
    "i = 1\n",
    "while i <= 9:\n",
    "    j = 1\n",
    "    while j <= 9:\n",
    "        print(\"{} * {} = {}\".format(i, j, i * j))\n",
    "        j += 1\n",
    "    i += 1"
   ]
  },
  {
   "cell_type": "markdown",
   "id": "6437a5e9",
   "metadata": {},
   "source": [
    "# 숫자야구 문제"
   ]
  },
  {
   "cell_type": "markdown",
   "id": "48de2e0c",
   "metadata": {},
   "source": [
    "숫자 야구' 게임을 만들려고 합니다.\n",
    "\n",
    "규칙\n",
    "컴퓨터는 0과 9 사이의 서로 다른 숫자 3개를 무작위로 뽑습니다. 예를 들어서 컴퓨터가 5, 2, 3을 뽑을 수도 있고 6, 7, 4를 뽑을 수도 있는 거죠.\n",
    "사용자는 컴퓨터가 뽑은 숫자의 값과 위치를 맞추어야 합니다.\n",
    "컴퓨터는 사용자가 입력한 숫자 3개에 대해서, 아래의 규칙대로 스트라이크(S)와 볼(B)의 개수를 알려줍니다.\n",
    "숫자의 값과 위치가 모두 일치하면 S입니다.\n",
    "숫자의 값은 일치하지만 위치가 틀렸으면 B입니다.\n",
    "예를 들어 컴퓨터가 1, 2, 3을 뽑았다고 가정합시다. 사용자가 1, 3, 5를 입력하면, 1S(1의 값과 위치가 일치) 1B(3의 값만 일치)입니다.\n",
    "기회는 무제한입니다. 하지만 몇 번의 시도 끝에 맞췄는지 기록됩니다.\n",
    "3S(숫자 3개의 값과 위치를 모두 맞춘 경우)가 나오면 게임이 끝납니다."
   ]
  },
  {
   "cell_type": "markdown",
   "id": "2839edc7",
   "metadata": {},
   "source": [
    "진행 방식\n",
    "\"0과 9 사이의 서로 다른 숫자 3개를 랜덤한 순서로 뽑았습니다.\"가 출력됩니다.\n",
    "\"숫자 3개를 하나씩 차례대로 입력하세요.\"가 출력됩니다.\n",
    "\"1번째 숫자를 입력하세요: \"가 출력되고, 사용자로부터 입력을 받습니다. 마찬가지로 \"2번째 숫자를 입력하세요: \"와 \"3번째 숫자를 입력하세요: \"가 출력되고, 사용자로부터 각각 입력을 받습니다. 만약 사용자가 중복되는 숫자를 입력하거나 범위에서 벗어나는 숫자를 입력하면, 사용자로부터 입력을 다시 받습니다.\n",
    "사용자가 올바르게 숫자 3개를 입력하면, 규칙에 따라 \"*S *B\"가 출력됩니다.\n",
    "3S가 아닌 경우, 2번부터 다시 진행합니다.\n",
    "사용자가 3S를 달성하면, \"축하합니다. *번 만에 숫자 3개의 값과 위치를 모두 맞추셨습니다.\"가 출력됩니다. 그리고 게임은 종료됩니다."
   ]
  },
  {
   "cell_type": "code",
   "execution_count": null,
   "id": "08ed04ce",
   "metadata": {},
   "outputs": [],
   "source": [
    "from random import randint\n",
    "\n",
    "\n",
    "def generate_numbers():\n",
    "    numbers = []\n",
    "\n",
    "    while len(numbers) < 3:\n",
    "        new_number = randint(0, 9)\n",
    "        if new_number not in numbers:\n",
    "            numbers.append(new_number)\n",
    "\n",
    "    return numbers\n",
    "\n",
    "\n",
    "def take_guess():\n",
    "    new_guess = []\n",
    "    while len(new_guess) < 3:\n",
    "        num = int(input(\"{}번째 수를 입력하세요: \".format(len(new_guess) + 1)))\n",
    "\n",
    "        if num < 0 or num > 9:\n",
    "            print(\"0에서 9까지의 수를 입력해 주세요!\")\n",
    "        elif num in new_guess:\n",
    "            print(\"중복되는 숫자입니다. 다시 입력하세요.\")\n",
    "        else:\n",
    "            new_guess.append(num)\n",
    "\n",
    "    return new_guess\n",
    "\n",
    "\n",
    "def get_score(guess, answer_list):\n",
    "    strike_count = 0\n",
    "    ball_count = 0\n",
    "\n",
    "    for i in range(3):\n",
    "        if guess[i] == answer_list[i]:\n",
    "            strike_count += 1\n",
    "        elif guess[i] in answer_list:\n",
    "            ball_count += 1\n",
    "\n",
    "    return strike_count, ball_count\n",
    "\n",
    "\n",
    "# 여기서부터 게임 시작!\n",
    "ANSWER = generate_numbers()\n",
    "tries = 0\n",
    "\n",
    "while True:\n",
    "    user_guess = take_guess()\n",
    "    s, b = get_score(user_guess, ANSWER)\n",
    "\n",
    "    print(\"{}S {}B\\n\".format(s, b))\n",
    "    tries += 1\n",
    "\n",
    "    if s == 3:\n",
    "        break\n",
    "\n",
    "print(\"축하합니다. {}번 만에 세 숫자의 값과 위치를 모두 맞추셨습니다.\".format(tries))"
   ]
  },
  {
   "cell_type": "markdown",
   "id": "838e879f",
   "metadata": {},
   "source": [
    "numbers = [1, 7, 3, 6, 5, 2, 13, 14] 를 만들고 홀수를 제거하는 문제"
   ]
  },
  {
   "cell_type": "code",
   "execution_count": 1,
   "id": "347faf01",
   "metadata": {},
   "outputs": [
    {
     "ename": "NameError",
     "evalue": "name 'numbers' is not defined",
     "output_type": "error",
     "traceback": [
      "\u001b[1;31m---------------------------------------------------------------------------\u001b[0m",
      "\u001b[1;31mNameError\u001b[0m                                 Traceback (most recent call last)",
      "\u001b[1;32m<ipython-input-1-e8e6f648a079>\u001b[0m in \u001b[0;36m<module>\u001b[1;34m\u001b[0m\n\u001b[0;32m      1\u001b[0m \u001b[0mi\u001b[0m \u001b[1;33m=\u001b[0m \u001b[1;36m0\u001b[0m\u001b[1;33m\u001b[0m\u001b[1;33m\u001b[0m\u001b[0m\n\u001b[1;32m----> 2\u001b[1;33m \u001b[1;32mwhile\u001b[0m \u001b[0mi\u001b[0m \u001b[1;33m<\u001b[0m \u001b[0mlen\u001b[0m\u001b[1;33m(\u001b[0m\u001b[0mnumbers\u001b[0m\u001b[1;33m)\u001b[0m\u001b[1;33m:\u001b[0m\u001b[1;33m\u001b[0m\u001b[1;33m\u001b[0m\u001b[0m\n\u001b[0m\u001b[0;32m      3\u001b[0m     \u001b[1;32mif\u001b[0m \u001b[0mnumbers\u001b[0m\u001b[1;33m[\u001b[0m\u001b[0mi\u001b[0m\u001b[1;33m]\u001b[0m \u001b[1;33m%\u001b[0m \u001b[1;36m2\u001b[0m \u001b[1;33m!=\u001b[0m \u001b[1;36m0\u001b[0m\u001b[1;33m:\u001b[0m\u001b[1;33m\u001b[0m\u001b[1;33m\u001b[0m\u001b[0m\n\u001b[0;32m      4\u001b[0m         \u001b[1;32mdel\u001b[0m \u001b[0mnumbers\u001b[0m\u001b[1;33m[\u001b[0m\u001b[0mi\u001b[0m\u001b[1;33m]\u001b[0m\u001b[1;33m\u001b[0m\u001b[1;33m\u001b[0m\u001b[0m\n\u001b[0;32m      5\u001b[0m     \u001b[1;32melse\u001b[0m\u001b[1;33m:\u001b[0m\u001b[1;33m\u001b[0m\u001b[1;33m\u001b[0m\u001b[0m\n",
      "\u001b[1;31mNameError\u001b[0m: name 'numbers' is not defined"
     ]
    }
   ],
   "source": [
    "i = 0\n",
    "while i < len(numbers):\n",
    "    if numbers[i] % 2 != 0:\n",
    "        del numbers[i]\n",
    "    else:\n",
    "        i += 1\n",
    "numbers\n",
    "\n",
    "# 중요한 점이 else i += 1 를 꼭 해줘야 한다는 점\n",
    "# 그렇지 않으면 예를 들어\n",
    "# 7이 제거되면 3이 인덱스 1로 옮기고 하나씩 앞으로 당겨지기 때문에\n",
    "# 지웠으면 인덱스를 해줘야 험"
   ]
  },
  {
   "cell_type": "markdown",
   "id": "da55ef6b",
   "metadata": {},
   "source": [
    "# 자릿수 합 구하기"
   ]
  },
  {
   "cell_type": "code",
   "execution_count": null,
   "id": "21a31c45",
   "metadata": {},
   "outputs": [],
   "source": [
    "# 자리수 합 리턴\n",
    "def sum_digit(num):\n",
    "    total = 0 # 임시 저장소가 중요함\n",
    "    str_num = str(num) # 문자열과 리스트가 비슷한 성질임을 이용\n",
    "    \n",
    "    for digit in str_num:\n",
    "        total += int(digit)\n",
    "\n",
    "    return total\n",
    "\n",
    "\n",
    "# sum_digit(1)부터 sum_digit(1000)까지의 합 구하기\n",
    "digit_total = 0\n",
    "for i in range(1, 1001):\n",
    "    digit_total += sum_digit(i)\n",
    "\n",
    "print(digit_total)"
   ]
  },
  {
   "cell_type": "markdown",
   "id": "86e7a0d8",
   "metadata": {},
   "source": [
    "# 고급 단어장"
   ]
  },
  {
   "cell_type": "markdown",
   "id": "f2959ebc",
   "metadata": {},
   "source": [
    "저장된 txt 파일의 단어를 랜덤으로 출제<br>\n",
    "계속 반복해서 문제를 내다가 q를 입력하면 중단"
   ]
  },
  {
   "cell_type": "code",
   "execution_count": null,
   "id": "af839d71",
   "metadata": {},
   "outputs": [],
   "source": [
    "import random\n",
    "\n",
    "with open('vocabulary.txt', 'r') as file:\n",
    "    dic = {}\n",
    "    # 사전 만들기\n",
    "    for line in file:\n",
    "        data = line.strip().split(\" : \")\n",
    "        english = data[0]\n",
    "        korean = data[1]\n",
    "        \n",
    "        dic[english] = korean\n",
    "        \n",
    "# 사전 리스트화\n",
    "keys = list(dic.keys())\n",
    "\n",
    "# 단어 랜덤 출제, 반복문 생성\n",
    "while True:\n",
    "    ran_num = random.randint(0, len(keys)-1)\n",
    "    eng = keys[ran_num] # 랜덤 영어 단어 생성\n",
    "    kor = dic[eng] # 생성된 영어 단어에 따른 한글 답을 사전에서 찾기\n",
    "    \n",
    "    quiz = input(\"{}: \".format(kor))\n",
    "    \n",
    "    # q 입력 경우 먼저 설정\n",
    "    \n",
    "    \n",
    "    if quiz == eng:\n",
    "        print(\"맞았습니다.\")\n",
    "    else:\n",
    "        print(\"틀렸습니다. 정답은 {}\".format(eng))\n",
    "        \n",
    "    if quiz == \"q\":\n",
    "        break\n",
    "        "
   ]
  },
  {
   "cell_type": "code",
   "execution_count": null,
   "id": "3bab2766",
   "metadata": {},
   "outputs": [],
   "source": []
  }
 ],
 "metadata": {
  "kernelspec": {
   "display_name": "Python 3",
   "language": "python",
   "name": "python3"
  },
  "language_info": {
   "codemirror_mode": {
    "name": "ipython",
    "version": 3
   },
   "file_extension": ".py",
   "mimetype": "text/x-python",
   "name": "python",
   "nbconvert_exporter": "python",
   "pygments_lexer": "ipython3",
   "version": "3.8.8"
  }
 },
 "nbformat": 4,
 "nbformat_minor": 5
}
