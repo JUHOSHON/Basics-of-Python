{
 "cells": [
  {
   "cell_type": "markdown",
   "id": "afb1aa73",
   "metadata": {},
   "source": [
    "# 리스트"
   ]
  },
  {
   "cell_type": "code",
   "execution_count": 1,
   "id": "107dccfe",
   "metadata": {},
   "outputs": [
    {
     "name": "stdout",
     "output_type": "stream",
     "text": [
      "[5, 8]\n"
     ]
    }
   ],
   "source": [
    "# 리스트에 추가\n",
    "numbers = []\n",
    "numbers.append(5) # 추가 연산, 추가는 원소 하나씩만 가능\n",
    "numbers.append(8)\n",
    "print(numbers)"
   ]
  },
  {
   "cell_type": "code",
   "execution_count": 2,
   "id": "1af350c0",
   "metadata": {},
   "outputs": [
    {
     "name": "stdout",
     "output_type": "stream",
     "text": [
      "[1, 2, 3, 4, 5, 6, 7]\n"
     ]
    }
   ],
   "source": [
    "# 리스트에서 제거\n",
    "numbersa = [1,2,3,4,4,5,6,7]\n",
    "del numbersa[3]\n",
    "print(numbersa)"
   ]
  },
  {
   "cell_type": "code",
   "execution_count": 3,
   "id": "9844047b",
   "metadata": {},
   "outputs": [],
   "source": [
    "numbersa.insert(4, 37) # 4번 인덱스에 37 삽입"
   ]
  },
  {
   "cell_type": "code",
   "execution_count": 4,
   "id": "ca6859b0",
   "metadata": {},
   "outputs": [
    {
     "name": "stdout",
     "output_type": "stream",
     "text": [
      "A\n",
      "B\n",
      "E\n",
      "J\n"
     ]
    }
   ],
   "source": [
    "# 알파벳 리스트의 인덱싱\n",
    "alphabets_list = ['A', 'B', 'C', 'D', 'E', 'F', 'G', 'H', 'I', 'J']\n",
    "print(alphabets_list[0])\n",
    "print(alphabets_list[1])\n",
    "print(alphabets_list[4])\n",
    "print(alphabets_list[-1])"
   ]
  },
  {
   "cell_type": "code",
   "execution_count": 5,
   "id": "679c7cba",
   "metadata": {},
   "outputs": [
    {
     "name": "stdout",
     "output_type": "stream",
     "text": [
      "A\n",
      "B\n",
      "E\n",
      "J\n"
     ]
    }
   ],
   "source": [
    "# 알파벳 문자열의 인덱싱\n",
    "alphabets_string = 'ABCDEFGHIJ'\n",
    "print(alphabets_string[0])\n",
    "print(alphabets_string[1])\n",
    "print(alphabets_string[4])\n",
    "print(alphabets_string[-1])"
   ]
  },
  {
   "cell_type": "code",
   "execution_count": 6,
   "id": "ca635e40",
   "metadata": {},
   "outputs": [
    {
     "name": "stdout",
     "output_type": "stream",
     "text": [
      "['A', 'B', 'C', 'D', 'E']\n",
      "['E', 'F', 'G', 'H', 'I', 'J']\n",
      "['A', 'B', 'C', 'D']\n"
     ]
    }
   ],
   "source": [
    "# 슬라이싱\n",
    "# 알파벳 리스트의 슬라이싱\n",
    "alphabets_list = ['A', 'B', 'C', 'D', 'E', 'F', 'G', 'H', 'I', 'J']\n",
    "print(alphabets_list[0:5])\n",
    "print(alphabets_list[4:])\n",
    "print(alphabets_list[:4])"
   ]
  },
  {
   "cell_type": "code",
   "execution_count": 7,
   "id": "b0cbc3c8",
   "metadata": {},
   "outputs": [
    {
     "name": "stdout",
     "output_type": "stream",
     "text": [
      "ABCDE\n",
      "EFGHIJ\n",
      "ABCD\n"
     ]
    }
   ],
   "source": [
    "# 알파벳 문자열의 슬라이싱\n",
    "alphabets_string = 'ABCDEFGHIJ'\n",
    "print(alphabets_string[0:5])\n",
    "print(alphabets_string[4:])\n",
    "print(alphabets_string[:4])"
   ]
  },
  {
   "cell_type": "code",
   "execution_count": 8,
   "id": "852f9739",
   "metadata": {},
   "outputs": [
    {
     "name": "stdout",
     "output_type": "stream",
     "text": [
      "[5, 2, 3, 4]\n"
     ]
    }
   ],
   "source": [
    "# 리스트 데이터 바꾸기\n",
    "numbers = [1, 2, 3, 4]\n",
    "numbers[0] = 5\n",
    "print(numbers)"
   ]
  },
  {
   "cell_type": "code",
   "execution_count": 9,
   "id": "5001d50b",
   "metadata": {},
   "outputs": [
    {
     "ename": "TypeError",
     "evalue": "'str' object does not support item assignment",
     "output_type": "error",
     "traceback": [
      "\u001b[1;31m---------------------------------------------------------------------------\u001b[0m",
      "\u001b[1;31mTypeError\u001b[0m                                 Traceback (most recent call last)",
      "\u001b[1;32m<ipython-input-9-5be3a0e2188c>\u001b[0m in \u001b[0;36m<module>\u001b[1;34m\u001b[0m\n\u001b[0;32m      1\u001b[0m \u001b[1;31m# 문자열 데이터 바꾸기 --- 불가능하다\u001b[0m\u001b[1;33m\u001b[0m\u001b[1;33m\u001b[0m\u001b[1;33m\u001b[0m\u001b[0m\n\u001b[0;32m      2\u001b[0m \u001b[0mname\u001b[0m \u001b[1;33m=\u001b[0m \u001b[1;34m\"codeit\"\u001b[0m\u001b[1;33m\u001b[0m\u001b[1;33m\u001b[0m\u001b[0m\n\u001b[1;32m----> 3\u001b[1;33m \u001b[0mname\u001b[0m\u001b[1;33m[\u001b[0m\u001b[1;36m0\u001b[0m\u001b[1;33m]\u001b[0m \u001b[1;33m=\u001b[0m \u001b[1;34m\"c\"\u001b[0m\u001b[1;33m\u001b[0m\u001b[1;33m\u001b[0m\u001b[0m\n\u001b[0m\u001b[0;32m      4\u001b[0m \u001b[0mprint\u001b[0m\u001b[1;33m(\u001b[0m\u001b[0mname\u001b[0m\u001b[1;33m)\u001b[0m\u001b[1;33m\u001b[0m\u001b[1;33m\u001b[0m\u001b[0m\n",
      "\u001b[1;31mTypeError\u001b[0m: 'str' object does not support item assignment"
     ]
    }
   ],
   "source": [
    "# 문자열 데이터 바꾸기 --- 불가능하다\n",
    "name = \"codeit\"\n",
    "name[0] = \"c\"\n",
    "print(name)"
   ]
  },
  {
   "cell_type": "code",
   "execution_count": 10,
   "id": "5ae39779",
   "metadata": {},
   "outputs": [
    {
     "name": "stdout",
     "output_type": "stream",
     "text": [
      "[2, 3, 5, 7, 11, 13, 17, 19]\n",
      "[2, 3, 5, 7, 11, 13, 17, 19]\n"
     ]
    }
   ],
   "source": [
    "# sorted : 기존 리스트는 건드리지 않고 정렬된 새로운 리스트 리턴\n",
    "# sort : 아무것도 리턴하지 않고 기존 리스트를 정렬\n",
    "\n",
    "abc = [19, 13, 2, 3, 5, 11, 7, 17]\n",
    "\n",
    "new_list = sorted(abc)\n",
    "print(new_list)\n",
    "new_list_2 = sorted(abc, reverse=True)\n",
    "\n",
    "abc.sort()\n",
    "print(abc)\n",
    "abc.sort(reverse=True)"
   ]
  },
  {
   "cell_type": "markdown",
   "id": "06d20597",
   "metadata": {},
   "source": [
    "# 튜플\n",
    "- 리스트와 유사하게 데이터 여러 개를 하나로 묶는데 이용\n",
    "- 튜플의 항목은 숫자, 문자열, 불, 리스트, 튜플, 세트, 딕셔너리 등으로 만듬\n",
    "- 튜플의 속성은 리스트와 유사\n",
    "***- (중요)튜플 데이터는 한 번 생성되면 그 이후에는 항목을 변경할 수 없음.***\n",
    "- 소괄호 사용"
   ]
  },
  {
   "cell_type": "code",
   "execution_count": 11,
   "id": "7b717e34",
   "metadata": {},
   "outputs": [
    {
     "data": {
      "text/plain": [
       "(1, 2, 3, 4)"
      ]
     },
     "execution_count": 11,
     "metadata": {},
     "output_type": "execute_result"
    }
   ],
   "source": [
    "tuple = (1,2,3,4)\n",
    "tuple"
   ]
  },
  {
   "cell_type": "code",
   "execution_count": 12,
   "id": "e1ea466e",
   "metadata": {},
   "outputs": [
    {
     "data": {
      "text/plain": [
       "tuple"
      ]
     },
     "execution_count": 12,
     "metadata": {},
     "output_type": "execute_result"
    }
   ],
   "source": [
    "type(tuple)"
   ]
  },
  {
   "cell_type": "markdown",
   "id": "1c95724f",
   "metadata": {},
   "source": [
    "# 세트\n",
    "- 세트는 수학의 집합 개념을 파이썬에서 이용할 수 있도록 만든 데이터 타입\n",
    "- 세트가 리스트와 튜플과 다른 점은 데이터의 순서가 없고 데이터를 중복해서 쓸 수 없다는 것\n",
    "- 세트는 리스트에서 사용했던 메서드 외에 집합이 되는 교집합, 합집합, 차집합을 구하는 메서드를 사용할 수 있음"
   ]
  },
  {
   "cell_type": "code",
   "execution_count": 13,
   "id": "c81f983a",
   "metadata": {},
   "outputs": [
    {
     "name": "stdout",
     "output_type": "stream",
     "text": [
      "{1, 2, 3}\n",
      "{1, 2, 3}\n"
     ]
    }
   ],
   "source": [
    "set1 = {1,2,3}\n",
    "set1a = {1, 2, 3, 3}\n",
    "print(set1)\n",
    "print(set1a)"
   ]
  },
  {
   "cell_type": "code",
   "execution_count": 14,
   "id": "5f69c9a1",
   "metadata": {},
   "outputs": [
    {
     "data": {
      "text/plain": [
       "{1, 2, 3}"
      ]
     },
     "execution_count": 14,
     "metadata": {},
     "output_type": "execute_result"
    }
   ],
   "source": [
    "# 세트의 교집합, 합집합, 차집합 구하기\n",
    "A = {1, 2, 3, 4, 5}\n",
    "B = {4, 5,6 , 7, 8, 9, 10}\n",
    "A.intersection(B) # 교집합\n",
    "A.union(B) # 합집합\n",
    "A.difference(B) # 차집합 A-B\n",
    "\n",
    "A & B # 교집합\n",
    "A | B # 합집합\n",
    "A - B # 차집합 A-B"
   ]
  },
  {
   "cell_type": "markdown",
   "id": "0e3ba85e",
   "metadata": {},
   "source": [
    "# 리스트 튜플 세트 간 타입 변환"
   ]
  },
  {
   "cell_type": "code",
   "execution_count": 19,
   "id": "ac59ea81",
   "metadata": {},
   "outputs": [
    {
     "data": {
      "text/plain": [
       "list"
      ]
     },
     "execution_count": 19,
     "metadata": {},
     "output_type": "execute_result"
    }
   ],
   "source": [
    "a = [1, 2, 3, 4, 5]\n",
    "type(a)"
   ]
  },
  {
   "cell_type": "code",
   "execution_count": 20,
   "id": "b7d1cfcb",
   "metadata": {},
   "outputs": [
    {
     "ename": "TypeError",
     "evalue": "'tuple' object is not callable",
     "output_type": "error",
     "traceback": [
      "\u001b[1;31m---------------------------------------------------------------------------\u001b[0m",
      "\u001b[1;31mTypeError\u001b[0m                                 Traceback (most recent call last)",
      "\u001b[1;32m<ipython-input-20-027963cf5644>\u001b[0m in \u001b[0;36m<module>\u001b[1;34m\u001b[0m\n\u001b[1;32m----> 1\u001b[1;33m \u001b[0mb\u001b[0m \u001b[1;33m=\u001b[0m \u001b[0mtuple\u001b[0m\u001b[1;33m(\u001b[0m\u001b[0ma\u001b[0m\u001b[1;33m)\u001b[0m\u001b[1;33m\u001b[0m\u001b[1;33m\u001b[0m\u001b[0m\n\u001b[0m\u001b[0;32m      2\u001b[0m \u001b[0mtype\u001b[0m\u001b[1;33m(\u001b[0m\u001b[0mb\u001b[0m\u001b[1;33m)\u001b[0m\u001b[1;33m\u001b[0m\u001b[1;33m\u001b[0m\u001b[0m\n",
      "\u001b[1;31mTypeError\u001b[0m: 'tuple' object is not callable"
     ]
    }
   ],
   "source": [
    "b = tuple(a)\n",
    "type(b)"
   ]
  },
  {
   "cell_type": "code",
   "execution_count": 21,
   "id": "ef87bb39",
   "metadata": {},
   "outputs": [
    {
     "data": {
      "text/plain": [
       "set"
      ]
     },
     "execution_count": 21,
     "metadata": {},
     "output_type": "execute_result"
    }
   ],
   "source": [
    "c = set(a)\n",
    "type(c)"
   ]
  },
  {
   "cell_type": "code",
   "execution_count": 22,
   "id": "071d8bd6",
   "metadata": {},
   "outputs": [
    {
     "ename": "NameError",
     "evalue": "name 'b' is not defined",
     "output_type": "error",
     "traceback": [
      "\u001b[1;31m---------------------------------------------------------------------------\u001b[0m",
      "\u001b[1;31mNameError\u001b[0m                                 Traceback (most recent call last)",
      "\u001b[1;32m<ipython-input-22-62f9449974b4>\u001b[0m in \u001b[0;36m<module>\u001b[1;34m\u001b[0m\n\u001b[1;32m----> 1\u001b[1;33m \u001b[0mb\u001b[0m \u001b[1;33m=\u001b[0m \u001b[0mlist\u001b[0m\u001b[1;33m(\u001b[0m\u001b[0mb\u001b[0m\u001b[1;33m)\u001b[0m\u001b[1;33m\u001b[0m\u001b[1;33m\u001b[0m\u001b[0m\n\u001b[0m\u001b[0;32m      2\u001b[0m \u001b[0mtype\u001b[0m\u001b[1;33m(\u001b[0m\u001b[0mb\u001b[0m\u001b[1;33m)\u001b[0m\u001b[1;33m\u001b[0m\u001b[1;33m\u001b[0m\u001b[0m\n",
      "\u001b[1;31mNameError\u001b[0m: name 'b' is not defined"
     ]
    }
   ],
   "source": [
    "b = list(b)\n",
    "type(b)"
   ]
  },
  {
   "cell_type": "markdown",
   "id": "7eff40f7",
   "metadata": {},
   "source": [
    "# 리스트 꿀팁"
   ]
  },
  {
   "cell_type": "code",
   "execution_count": 23,
   "id": "a36bf12d",
   "metadata": {},
   "outputs": [
    {
     "name": "stdout",
     "output_type": "stream",
     "text": [
      "True\n",
      "False\n"
     ]
    }
   ],
   "source": [
    "primes = [2, 3, 5, 7, 11, 13, 17, 19, 23]\n",
    "print(7 in primes)\n",
    "print(12 in primes)"
   ]
  },
  {
   "cell_type": "code",
   "execution_count": 24,
   "id": "8f9c0bc0",
   "metadata": {},
   "outputs": [
    {
     "name": "stdout",
     "output_type": "stream",
     "text": [
      "False\n",
      "True\n"
     ]
    }
   ],
   "source": [
    "primes = [2, 3, 5, 7, 11, 13, 17, 19, 23]\n",
    "print(7 not in primes)\n",
    "print(12 not in primes)"
   ]
  },
  {
   "cell_type": "markdown",
   "id": "b25758dc",
   "metadata": {},
   "source": [
    "**리스트 안의 리스트**"
   ]
  },
  {
   "cell_type": "code",
   "execution_count": 25,
   "id": "7eba5ee5",
   "metadata": {},
   "outputs": [
    {
     "name": "stdout",
     "output_type": "stream",
     "text": [
      "[62, 75, 77]\n",
      "[85, 91, 89]\n",
      "62\n",
      "91\n",
      "75.0\n"
     ]
    }
   ],
   "source": [
    "# 세 번의 시험을 보는 수업\n",
    "grades = [[62, 75, 77], [78, 81, 86], [85, 91, 89]]\n",
    "\n",
    "# 첫 번째 학생의 성적\n",
    "print(grades[0])\n",
    "\n",
    "# 세 번째 학생의 성적\n",
    "print(grades[2])\n",
    "\n",
    "# 첫 번째 학생의 첫 번째 시험 성적\n",
    "print(grades[0][0])\n",
    "\n",
    "# 세 번째 학생의 두 번째 시험 성적\n",
    "print(grades[2][1])\n",
    "\n",
    "# 첫 번째 시험의 평균\n",
    "print((grades[0][0] + grades[1][0] + grades[2][0]) / 3)"
   ]
  },
  {
   "cell_type": "code",
   "execution_count": 26,
   "id": "0023b8c7",
   "metadata": {},
   "outputs": [
    {
     "name": "stdout",
     "output_type": "stream",
     "text": [
      "[1, 7, 3, 5]\n"
     ]
    }
   ],
   "source": [
    "numbers = [5, 3, 7, 1]\n",
    "numbers.reverse()\n",
    "print(numbers)"
   ]
  },
  {
   "cell_type": "code",
   "execution_count": 27,
   "id": "b3b4a3c1",
   "metadata": {},
   "outputs": [
    {
     "name": "stdout",
     "output_type": "stream",
     "text": [
      "1\n",
      "2\n"
     ]
    }
   ],
   "source": [
    "members = [\"영훈\", \"윤수\", \"태호\", \"혜린\"]\n",
    "print(members.index(\"윤수\"))\n",
    "print(members.index(\"태호\"))"
   ]
  },
  {
   "cell_type": "code",
   "execution_count": 28,
   "id": "fc279003",
   "metadata": {},
   "outputs": [
    {
     "name": "stdout",
     "output_type": "stream",
     "text": [
      "['딸기', '당근', '수박', '참외', '메론']\n"
     ]
    }
   ],
   "source": [
    "fruits = [\"딸기\", \"당근\", \"파인애플\", \"수박\", \"참외\", \"메론\"]\n",
    "fruits.remove(\"파인애플\")\n",
    "print(fruits)"
   ]
  },
  {
   "cell_type": "markdown",
   "id": "cfef380c",
   "metadata": {},
   "source": [
    "# split\n",
    "  - \"분리한다\"에 포인트를 두면 좋음\n",
    "  - 데이터에서 컬럼명을 제외하고 수치적인 데이터만을 가져올 때 사용\n",
    "  - 문자열을 부분 문자열으로 나누고 싶을 때 사용하는 메소드\n",
    "  - 분리한 뒤 리스트로 반환\n",
    "  - split() 괄호 내부를 아무것도 안쓰면 공백을 모두 제거하고 \\n 제거\n",
    "  - 문자열을 나누는 것이지 리스트를 나누는게 아님\n",
    "  - 리스트를 나누는 건 슬라이싱"
   ]
  },
  {
   "cell_type": "code",
   "execution_count": 29,
   "id": "44e16ac5",
   "metadata": {},
   "outputs": [
    {
     "name": "stdout",
     "output_type": "stream",
     "text": [
      "['1', '2', '3', '4', '5', '6']\n",
      "3\n"
     ]
    }
   ],
   "source": [
    "# split\n",
    "my_string = \"1. 2. 3. 4. 5. 6\"\n",
    "print(my_string.split('. '))\n",
    "print(my_string.split(\". \")[2])\n",
    "# split 뒤에 인덱싱을 함으로써 필요한 인덱스에 바로 접근 가능"
   ]
  },
  {
   "cell_type": "code",
   "execution_count": 30,
   "id": "79fd9132",
   "metadata": {},
   "outputs": [
    {
     "name": "stdout",
     "output_type": "stream",
     "text": [
      "['a', 'b', 'c', 'd', 'e']\n"
     ]
    }
   ],
   "source": [
    "string = 'a b c d e'\n",
    "print(string.split())"
   ]
  },
  {
   "cell_type": "code",
   "execution_count": 31,
   "id": "5d5ee1df",
   "metadata": {},
   "outputs": [
    {
     "name": "stdout",
     "output_type": "stream",
     "text": [
      "['2', '3', '5', '78', '11']\n"
     ]
    }
   ],
   "source": [
    "# 화이트 스페이스를 기반으로 공백제거 공백, 개행문자 모두 제거해서 출력해줌\n",
    "print(\"   \\n\\n    2   \\t  3  \\n   5 78 11  \\n \\n\".split())"
   ]
  },
  {
   "cell_type": "code",
   "execution_count": 32,
   "id": "e7dee896",
   "metadata": {},
   "outputs": [
    {
     "data": {
      "text/plain": [
       "['1', '2', '3. 4. 5. 6']"
      ]
     },
     "execution_count": 32,
     "metadata": {},
     "output_type": "execute_result"
    }
   ],
   "source": [
    "# maxsplit : 지정한 숫자만큼 앞에서부터 문자열을 나눔\n",
    "# maxsplit 코딩 생략하고 숫자만 기입 가능\n",
    "string = \"1. 2. 3. 4. 5. 6\"\n",
    "string.split('. ', maxsplit = 2)"
   ]
  },
  {
   "cell_type": "code",
   "execution_count": 33,
   "id": "d5bb72ba",
   "metadata": {},
   "outputs": [
    {
     "name": "stdout",
     "output_type": "stream",
     "text": [
      "['+82', '01-2345-6789']\n",
      "국내 전화번호 : 01-2345-6789\n"
     ]
    }
   ],
   "source": [
    "phone_number = '+82-01-2345-6789'\n",
    "split_num = phone_number.split('-', 1)\n",
    "print(split_num)\n",
    "print('국내 전화번호 : {0}'.format(split_num[1]))"
   ]
  },
  {
   "cell_type": "code",
   "execution_count": 34,
   "id": "3eeea29f",
   "metadata": {},
   "outputs": [
    {
     "name": "stdout",
     "output_type": "stream",
     "text": [
      "날짜    에스프레소  아메리카노  카페라테  카푸치노\n",
      "\n",
      "['날짜', '에스프레소', '아메리카노', '카페라테', '카푸치노']\n",
      "10.15       10  \t50         45       20   \n",
      "10.16       12\t\t45         41       18\n",
      "10.17       11\t\t53         32       25\n",
      "10.18       15\t\t49         38       22\n"
     ]
    }
   ],
   "source": [
    "# 데이터에서 컬럼명을 제외하고 수치 데이터만 분리하기\n",
    "with open('C:/Users/SHON/Desktop/KDT/3주차/coffeeShopSales.txt', 'rt', encoding = 'utf-8') as f:\n",
    "    header = f.readline() # 컬럼명이 있는 첫줄만 읽어들인다.\n",
    "    print(header)\n",
    "    \n",
    "    header_list = header.split() # 첫 줄을 분리해낸다.\n",
    "    print(header_list)\n",
    "    \n",
    "    print(f.read()) # split 한 뒤 출력값은 다음과 같다."
   ]
  },
  {
   "cell_type": "code",
   "execution_count": 35,
   "id": "7586d265",
   "metadata": {},
   "outputs": [
    {
     "name": "stdout",
     "output_type": "stream",
     "text": [
      "날짜    에스프레소  아메리카노  카페라테  카푸치노\n",
      "\n",
      "['날짜', '에스프레소', '아메리카노', '카페라테', '카푸치노']\n",
      "10.15       10  \t50         45       20   \n",
      "10.16       12\t\t45         41       18\n",
      "10.17       11\t\t53         32       25\n",
      "10.18       15\t\t49         38       22\n",
      "[]\n",
      "[]\n",
      "[]\n",
      "[]\n"
     ]
    }
   ],
   "source": [
    "with open('C:/Users/SHON/Desktop/KDT/3주차/coffeeShopSales.txt', 'rt', encoding = 'utf-8') as f:\n",
    "    header = f.readline() # 컬럼명이 있는 첫줄만 읽어들인다.\n",
    "    print(header)\n",
    "    \n",
    "    header_list = header.split() # 첫 줄을 분리해낸다.\n",
    "    print(header_list)\n",
    "    \n",
    "    print(f.read()) \n",
    "    \n",
    "    espresso = []\n",
    "    americano = []\n",
    "    cafelatte = []\n",
    "    cappucino = []\n",
    "\n",
    "    for line in f:\n",
    "        data_list = line.split()\n",
    "\n",
    "        espresso.append(int(data_list[1]))\n",
    "        americano.append(int(data_list[2]))\n",
    "        cafelatte.append(int(data_list[3]))\n",
    "        cappucino.append(int(data_list[4]))\n",
    "\n",
    "print(espresso)\n",
    "print(americano)\n",
    "print(cafelatte)\n",
    "print(cappucino)"
   ]
  },
  {
   "cell_type": "markdown",
   "id": "9d61df2c",
   "metadata": {},
   "source": [
    "# strip()\n",
    " - 문자열 앞 뒤 공백 또는 개행문자 등의 불필요한 부분을 지울 때 사용\n",
    " - 앞 뒤에서 지정한 문자 외 다른 문자를 만날 때까지만 지정문자를 삭제\n",
    " - lstrip() rstrip()도 있음\n",
    " - str.strip([chars])"
   ]
  },
  {
   "cell_type": "code",
   "execution_count": 36,
   "id": "5b76bd4e",
   "metadata": {},
   "outputs": [
    {
     "data": {
      "text/plain": [
       "'python'"
      ]
     },
     "execution_count": 36,
     "metadata": {},
     "output_type": "execute_result"
    }
   ],
   "source": [
    "str = \"   python     \"\n",
    "str.strip()"
   ]
  },
  {
   "cell_type": "code",
   "execution_count": 37,
   "id": "ddff2cf8",
   "metadata": {},
   "outputs": [
    {
     "name": "stdout",
     "output_type": "stream",
     "text": [
      "Pythonbbb\n",
      "Python\n"
     ]
    }
   ],
   "source": [
    "# 문자열을 지우는 거는 앞, 뒤에서 부터 시작해서 해당되는 문자 삭제\n",
    "# 중간에 것들은 삭제 못함\n",
    "test = 'aaaaaPythonbbbaaa'\n",
    "temp1 = test.strip('a')\n",
    "print(temp1)\n",
    "temp2 = temp1.strip('b')\n",
    "print(temp2)"
   ]
  },
  {
   "cell_type": "code",
   "execution_count": 38,
   "id": "44161fc2",
   "metadata": {},
   "outputs": [
    {
     "data": {
      "text/plain": [
       "'Python'"
      ]
     },
     "execution_count": 38,
     "metadata": {},
     "output_type": "execute_result"
    }
   ],
   "source": [
    "# 지우려는 문자를 여러개 지정가능\n",
    "# 지정할 때 순서는 상관 없음\n",
    "test = 'aaaaaPythonbbbaaa'\n",
    "test.strip('a b')"
   ]
  },
  {
   "cell_type": "code",
   "execution_count": 39,
   "id": "601392ba",
   "metadata": {},
   "outputs": [
    {
     "data": {
      "text/plain": [
       "'Ball'"
      ]
     },
     "execution_count": 39,
     "metadata": {},
     "output_type": "execute_result"
    }
   ],
   "source": [
    "# 다른 문자를 만나기 전 까지만 삭제\n",
    "'aaaaaBallaaaaa'.strip('a')"
   ]
  },
  {
   "cell_type": "markdown",
   "id": "4d005d9f",
   "metadata": {},
   "source": [
    "# join() 문자열 연결하기\n",
    "- 리스트의 모든 항목을 하나의 문자열로 만들때 사용\n",
    "- str.join(seq)\n",
    "- str : 구분자 문자열(공백을 수도잇고 다른 기호일 수도 있고)\n",
    "- seq : 문자열을 갖는 리스트 "
   ]
  },
  {
   "cell_type": "code",
   "execution_count": 40,
   "id": "6ac46f82",
   "metadata": {},
   "outputs": [
    {
     "data": {
      "text/plain": [
       "'서울시 서초구 반포대로 201(반포동)'"
      ]
     },
     "execution_count": 40,
     "metadata": {},
     "output_type": "execute_result"
    }
   ],
   "source": [
    "address_list = ['서울시', '서초구', '반포대로', '201(반포동)']\n",
    "a = ' '\n",
    "a.join(address_list)"
   ]
  },
  {
   "cell_type": "markdown",
   "id": "f59251dc",
   "metadata": {},
   "source": [
    "# find() 문자열 찾기\n",
    " - 문자열에서 원하는 단어를 찾을 때 사용한다.\n",
    " - str.find(search str, start, end)\n",
    " - 첫번째로 일치하는 문자열의 위치 반환(문자열 0부터 시작)\n",
    " - 찾을 수 없으면 -1 반환"
   ]
  },
  {
   "cell_type": "code",
   "execution_count": 41,
   "id": "a4131a0d",
   "metadata": {},
   "outputs": [
    {
     "name": "stdout",
     "output_type": "stream",
     "text": [
      "20\n",
      "-1\n"
     ]
    }
   ],
   "source": [
    "str_test = 'Python is powerful, Python is easy to learn'\n",
    "print(str_test.find('Python', 10, 30))\n",
    "print(str_test.find('Python', 35))"
   ]
  },
  {
   "cell_type": "markdown",
   "id": "36e61b2c",
   "metadata": {},
   "source": [
    "# count() 문자열이 몇 번 나오는지 알기\n",
    "- str.count(str, start, end)\n",
    "- 없으면 0 반환"
   ]
  },
  {
   "cell_type": "markdown",
   "id": "5a2210b9",
   "metadata": {},
   "source": [
    "# startswith(), endswith()\n",
    " - 각 문자열이 지정된 문자열로 시작하는지 끝나는지를 검사할 때 사용 (T/F)\n",
    " - str.startswith(prefix, start, end) prefix: 지정된 문자열\n",
    " - str.endswith(suffix, start, end) suffix : 지정된 문자열"
   ]
  },
  {
   "cell_type": "code",
   "execution_count": 42,
   "id": "e85dda19",
   "metadata": {},
   "outputs": [
    {
     "name": "stdout",
     "output_type": "stream",
     "text": [
      "Python으로 시작? True\n"
     ]
    }
   ],
   "source": [
    "str_se = 'Python is powerful, Python is easy to learn'\n",
    "\n",
    "print('Python으로 시작?', str_se.startswith('Python'))"
   ]
  },
  {
   "cell_type": "markdown",
   "id": "b57736db",
   "metadata": {},
   "source": [
    "# replace() 문자열 바꾸기\n",
    "- 문자열에서 지정한 문자열을 찾아서 바꾸는 메소드\n",
    "- str.replace(old, new[, count])\n",
    "- str(문자열)에서 old(지정 문자열을) new(새 문자열)로 바꿈\n",
    "\n",
    "- 특정 문자열을 삭제할 때도 replace() 활용가능"
   ]
  },
  {
   "cell_type": "code",
   "execution_count": 43,
   "id": "6a912114",
   "metadata": {},
   "outputs": [
    {
     "name": "stdout",
     "output_type": "stream",
     "text": [
      "IPython is powerful, IPython is easy to learn\n",
      "IPython is powerful, Python is easy to learn\n"
     ]
    }
   ],
   "source": [
    "str_se = 'Python is powerful, Python is easy to learn'\n",
    "print(str_se.replace('Python', 'IPython'))\n",
    "print(str_se.replace('Python', 'IPython', 1))"
   ]
  },
  {
   "cell_type": "code",
   "execution_count": 44,
   "id": "b77c86cf",
   "metadata": {},
   "outputs": [
    {
     "name": "stdout",
     "output_type": "stream",
     "text": [
      "[Python] [is] [fast]\n",
      "Python] is] fast]\n",
      "Python is fast\n"
     ]
    }
   ],
   "source": [
    "str_b = '[Python] [is] [fast]'\n",
    "str_b1 = str_b.replace('[', '')\n",
    "str_b2 = str_b1.replace(']', '')\n",
    "\n",
    "print(str_b)\n",
    "print(str_b1)\n",
    "print(str_b2)"
   ]
  },
  {
   "cell_type": "markdown",
   "id": "73d4dc19",
   "metadata": {},
   "source": [
    "# 문자열 포맷팅 방식"
   ]
  },
  {
   "cell_type": "markdown",
   "id": "d465e1fa",
   "metadata": {},
   "source": [
    "## 1. %기호"
   ]
  },
  {
   "cell_type": "code",
   "execution_count": 45,
   "id": "14e2a096",
   "metadata": {},
   "outputs": [
    {
     "name": "stdout",
     "output_type": "stream",
     "text": [
      "제 이름은 똥강아지이고 32살입니다.\n"
     ]
    }
   ],
   "source": [
    "name = \"똥강아지\"\n",
    "age = 32\n",
    "\n",
    "print(\"제 이름은 %s이고 %d살입니다.\" % (name, age))"
   ]
  },
  {
   "cell_type": "code",
   "execution_count": 46,
   "id": "74cff42f",
   "metadata": {},
   "outputs": [
    {
     "name": "stdout",
     "output_type": "stream",
     "text": [
      "반지름 : 3, 원주율 3.141593\n"
     ]
    }
   ],
   "source": [
    "r = 3 # %d는 정수로 저장\n",
    "PI = 3.1415926535 # %f는 실수로 저장\n",
    "print('반지름 : %d, 원주율 %f' % (r, PI))"
   ]
  },
  {
   "cell_type": "markdown",
   "id": "b2b73a5f",
   "metadata": {},
   "source": [
    "## 2. format 메소드"
   ]
  },
  {
   "cell_type": "code",
   "execution_count": 49,
   "id": "3c185beb",
   "metadata": {},
   "outputs": [
    {
     "name": "stdout",
     "output_type": "stream",
     "text": [
      "제 이름은 최지웅이고 32살입니다.\n"
     ]
    }
   ],
   "source": [
    "name = \"최지웅\" \n",
    "age = 32\n",
    "\n",
    "print(\"제 이름은 {}이고 {}살입니다.\".format(name, age))"
   ]
  },
  {
   "cell_type": "code",
   "execution_count": 50,
   "id": "ff52d40c",
   "metadata": {},
   "outputs": [
    {
     "name": "stdout",
     "output_type": "stream",
     "text": [
      "5시간에 28554.0원 벌었습니다.\n"
     ]
    }
   ],
   "source": [
    "wage = 5\n",
    "exchange_rate = 1142.16\n",
    "print('5시간에 {:.1f}원 벌었습니다.'.format(5*wage*exchange_rate))\n",
    "# .1 은 소수 첫째자리까지 나타내라는 말, f는 플로팅"
   ]
  },
  {
   "cell_type": "markdown",
   "id": "74abbf9c",
   "metadata": {},
   "source": [
    "# 3. f-string"
   ]
  },
  {
   "cell_type": "code",
   "execution_count": 51,
   "id": "dd56f581",
   "metadata": {},
   "outputs": [
    {
     "name": "stdout",
     "output_type": "stream",
     "text": [
      "제 이름은 최지웅이고 32살입니다.\n"
     ]
    }
   ],
   "source": [
    "name = \"최지웅\"\n",
    "age = 32\n",
    "\n",
    "print(f\"제 이름은 {name}이고 {age}살입니다.\")"
   ]
  },
  {
   "cell_type": "markdown",
   "id": "1ee16490",
   "metadata": {},
   "source": [
    "# 옵셔널 파라미터\n",
    "파라미터에게 '기본값(default value)'을 설정할 수 있는데요. 기본값을 설정해 두면, 함수를 호출할 때 꼭 파라미터에 값을 안 넘겨 줘도 됩니다. 이런 파라미터를 '옵셔널 파라미터(optional parameter)'라고 합니다. 필수로 넘겨 줄 필요가 없으니까 '옵셔널'이라고 하는 거죠.\n",
    "\n",
    "옵셔널 파라미터는 반드시 마지막에!!"
   ]
  },
  {
   "cell_type": "code",
   "execution_count": 52,
   "id": "2ac37747",
   "metadata": {},
   "outputs": [
    {
     "name": "stdout",
     "output_type": "stream",
     "text": [
      "내 이름은 코드잇\n",
      "나이는 1살\n",
      "국적은 미국\n",
      "\n",
      "내 이름은 코드잇\n",
      "나이는 1살\n",
      "국적은 한국\n"
     ]
    }
   ],
   "source": [
    "def myself(name, age, nationality=\"한국\"):\n",
    "    print(\"내 이름은 {}\".format(name))\n",
    "    print(\"나이는 {}살\".format(age))\n",
    "    print(\"국적은 {}\".format(nationality))\n",
    "\n",
    "\n",
    "myself(\"코드잇\", 1, \"미국\")  # 옵셔널 파라미터를 제공하는 경우\n",
    "print()\n",
    "myself(\"코드잇\", 1)  # 옵셔널 파라미터를 제공하지 않는 경우"
   ]
  },
  {
   "cell_type": "markdown",
   "id": "a968b5f5",
   "metadata": {},
   "source": [
    "# 사전(dictionary)\n",
    "key-value pair로 구성됨 <br>\n",
    "\n",
    "dict_name = {key:value1, key2:value2, key3:value3}\n",
    "\n",
    "*** value 값이 꼭 단일 값일 필요 없음, 리스트가 올 수도 튜플이 올 수도 있음***\n",
    "\n",
    "##### 사전 메소드\n",
    "- keys() : 사전에서 키 전체를 리스트 형태로 반환 / dict.keys()\n",
    "- values() : 사전에서 값 전체를 리스트 형태로 반환 / dict.values()\n",
    "- items() : 키와 값의 쌍을 (키, 값)처럼 튜플 형태로 반환 / dict.items()\n",
    "- update(dict_data2) : 사전에 데이터 (dict_data2) 추가 / dict.update(dict_data2)\n",
    "- clear() : 사전의 모든 항목 삭제 / dict.clear()"
   ]
  },
  {
   "cell_type": "code",
   "execution_count": 62,
   "id": "e760fc8b",
   "metadata": {},
   "outputs": [],
   "source": [
    "# 리스트와의 차이점\n",
    "# 리스트는 인덱스가 순서대로 01234로 진행\n",
    "# 사전은 딱히 순서가 없음\n",
    "# 리스트의 인덱스는 정수형\n",
    "# 사전의 인덱스는 정수형일 필요가 없음"
   ]
  },
  {
   "cell_type": "code",
   "execution_count": 53,
   "id": "93ade09d",
   "metadata": {},
   "outputs": [
    {
     "name": "stdout",
     "output_type": "stream",
     "text": [
      "<class 'dict'>\n"
     ]
    }
   ],
   "source": [
    "my_dictionary = {\n",
    "    5: 25,\n",
    "    2: 4,\n",
    "    3: 9\n",
    "}\n",
    "print(type(my_dictionary))"
   ]
  },
  {
   "cell_type": "code",
   "execution_count": 54,
   "id": "0141c6cb",
   "metadata": {},
   "outputs": [
    {
     "data": {
      "text/plain": [
       "9"
      ]
     },
     "execution_count": 54,
     "metadata": {},
     "output_type": "execute_result"
    }
   ],
   "source": [
    "my_dictionary[3] # key 3에 대한 값을 가져옴"
   ]
  },
  {
   "cell_type": "code",
   "execution_count": 55,
   "id": "82e3a155",
   "metadata": {},
   "outputs": [
    {
     "name": "stdout",
     "output_type": "stream",
     "text": [
      "{5: 25, 2: 4, 3: 9, 9: 81}\n"
     ]
    }
   ],
   "source": [
    "my_dictionary[9] = 81 # 새로운 값 추가\n",
    "print(my_dictionary)"
   ]
  },
  {
   "cell_type": "code",
   "execution_count": 56,
   "id": "466e1396",
   "metadata": {},
   "outputs": [
    {
     "data": {
      "text/plain": [
       "{5: 25, 2: 4, 3: 9, 9: 81, '오렌지': 100, '수박': 101}"
      ]
     },
     "execution_count": 56,
     "metadata": {},
     "output_type": "execute_result"
    }
   ],
   "source": [
    "# 데이터 추가 update\n",
    "addition = {\"오렌지\" : 100, \"수박\" : 101}\n",
    "my_dictionary.update(addition)\n",
    "my_dictionary"
   ]
  },
  {
   "cell_type": "code",
   "execution_count": 57,
   "id": "f807df46",
   "metadata": {},
   "outputs": [
    {
     "data": {
      "text/plain": [
       "{5: 25, 2: 4, 9: 81, '오렌지': 100, '수박': 101}"
      ]
     },
     "execution_count": 57,
     "metadata": {},
     "output_type": "execute_result"
    }
   ],
   "source": [
    "del my_dictionary[3] # 특정 값 삭제\n",
    "my_dictionary"
   ]
  },
  {
   "cell_type": "code",
   "execution_count": 58,
   "id": "87c15b40",
   "metadata": {},
   "outputs": [
    {
     "data": {
      "text/plain": [
       "11"
      ]
     },
     "execution_count": 58,
     "metadata": {},
     "output_type": "execute_result"
    }
   ],
   "source": [
    "# 사전에는 숫자, 문자열, 튜플, 리스트, 사전까지도 모두 들어갈 수 있는데\n",
    "# 만약 섞여있는 사전에서 사전을 출력하고 싶을 때 검색하는 법\n",
    "mixed_dict = {\n",
    "    1:10,\n",
    "    'dict_num':{1:10, 2:20},\n",
    "    'dict_list_tuple':{'A':[11, 12, 13]}, 'B':(21, 22, 23)\n",
    "}\n",
    "\n",
    "# 검색하는 법\n",
    "mixed_dict['dict_num'][1]\n",
    "mixed_dict['dict_list_tuple']['A'][0]"
   ]
  },
  {
   "cell_type": "code",
   "execution_count": 59,
   "id": "4754f477",
   "metadata": {},
   "outputs": [],
   "source": [
    "my_family = {\n",
    "    '엄마': '김자옥',\n",
    "    '아빠': '이석진',\n",
    "    '아들': '이동민'\n",
    "}"
   ]
  },
  {
   "cell_type": "code",
   "execution_count": 60,
   "id": "fd514fc7",
   "metadata": {},
   "outputs": [
    {
     "name": "stdout",
     "output_type": "stream",
     "text": [
      "이석진\n"
     ]
    }
   ],
   "source": [
    "print(my_family['아빠'])"
   ]
  },
  {
   "cell_type": "code",
   "execution_count": 61,
   "id": "6946757e",
   "metadata": {},
   "outputs": [
    {
     "ename": "TypeError",
     "evalue": "descriptor 'items' of 'dict' object needs an argument",
     "output_type": "error",
     "traceback": [
      "\u001b[1;31m---------------------------------------------------------------------------\u001b[0m",
      "\u001b[1;31mTypeError\u001b[0m                                 Traceback (most recent call last)",
      "\u001b[1;32m<ipython-input-61-92dcbdd13fd0>\u001b[0m in \u001b[0;36m<module>\u001b[1;34m\u001b[0m\n\u001b[0;32m      1\u001b[0m \u001b[1;31m# 사전의 키와 값을 모두 받아오려면?\u001b[0m\u001b[1;33m\u001b[0m\u001b[1;33m\u001b[0m\u001b[1;33m\u001b[0m\u001b[0m\n\u001b[0;32m      2\u001b[0m \u001b[1;31m# 새로운 사전에 key 와 value 값을 서로 바꾸어 저장하고 싶다면?\u001b[0m\u001b[1;33m\u001b[0m\u001b[1;33m\u001b[0m\u001b[1;33m\u001b[0m\u001b[0m\n\u001b[1;32m----> 3\u001b[1;33m \u001b[1;32mfor\u001b[0m \u001b[0mkey\u001b[0m\u001b[1;33m,\u001b[0m \u001b[0mvalue\u001b[0m \u001b[1;32min\u001b[0m \u001b[0mdict\u001b[0m\u001b[1;33m.\u001b[0m\u001b[0mitems\u001b[0m\u001b[1;33m(\u001b[0m\u001b[1;33m)\u001b[0m\u001b[1;33m:\u001b[0m\u001b[1;33m\u001b[0m\u001b[1;33m\u001b[0m\u001b[0m\n\u001b[0m\u001b[0;32m      4\u001b[0m     \u001b[0mnew_dict\u001b[0m\u001b[1;33m[\u001b[0m\u001b[0mvalue\u001b[0m\u001b[1;33m]\u001b[0m \u001b[1;33m=\u001b[0m \u001b[0mkey\u001b[0m\u001b[1;33m\u001b[0m\u001b[1;33m\u001b[0m\u001b[0m\n",
      "\u001b[1;31mTypeError\u001b[0m: descriptor 'items' of 'dict' object needs an argument"
     ]
    }
   ],
   "source": [
    "# 사전의 키와 값을 모두 받아오려면?\n",
    "# 새로운 사전에 key 와 value 값을 서로 바꾸어 저장하고 싶다면?\n",
    "for key, value in dict.items():\n",
    "    new_dict[value] = key"
   ]
  },
  {
   "cell_type": "code",
   "execution_count": null,
   "id": "fc487372",
   "metadata": {},
   "outputs": [],
   "source": []
  }
 ],
 "metadata": {
  "kernelspec": {
   "display_name": "Python 3",
   "language": "python",
   "name": "python3"
  },
  "language_info": {
   "codemirror_mode": {
    "name": "ipython",
    "version": 3
   },
   "file_extension": ".py",
   "mimetype": "text/x-python",
   "name": "python",
   "nbconvert_exporter": "python",
   "pygments_lexer": "ipython3",
   "version": "3.8.8"
  }
 },
 "nbformat": 4,
 "nbformat_minor": 5
}
