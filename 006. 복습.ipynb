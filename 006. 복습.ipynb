{
 "cells": [
  {
   "cell_type": "markdown",
   "id": "939e10a7",
   "metadata": {},
   "source": [
    "문자열 포맷팅"
   ]
  },
  {
   "cell_type": "code",
   "execution_count": null,
   "id": "e91ab96a",
   "metadata": {},
   "outputs": [],
   "source": [
    "wage = 5\n",
    "exchange_rate = 1142.16"
   ]
  },
  {
   "cell_type": "code",
   "execution_count": null,
   "id": "f172cc74",
   "metadata": {},
   "outputs": [],
   "source": [
    "print('1시간에 {}달러 벌었습니다.'.format(wage))"
   ]
  },
  {
   "cell_type": "code",
   "execution_count": null,
   "id": "877a8068",
   "metadata": {},
   "outputs": [],
   "source": [
    "print('5시간에 {}달러 벌었습니다.'.format(wage*5))"
   ]
  },
  {
   "cell_type": "code",
   "execution_count": null,
   "id": "d277f071",
   "metadata": {},
   "outputs": [],
   "source": [
    "print('1시간에 {}원 벌었습니다.'.format(wage*exchange_rate))"
   ]
  },
  {
   "cell_type": "code",
   "execution_count": null,
   "id": "f25239fa",
   "metadata": {},
   "outputs": [],
   "source": [
    "print('5시간에 {:.1f}원 벌었습니다.'.format(5*wage*exchange_rate))"
   ]
  },
  {
   "cell_type": "code",
   "execution_count": null,
   "id": "92d2f3e5",
   "metadata": {},
   "outputs": [],
   "source": [
    "def is_evenly_divisible(number):\n",
    "    return number % 2 == 0\n",
    "\n",
    "print(is_evenly_divisible(3))\n",
    "print(is_evenly_divisible(7))\n",
    "print(is_evenly_divisible(8))\n",
    "print(is_evenly_divisible(218))\n",
    "print(is_evenly_divisible(317))"
   ]
  },
  {
   "cell_type": "code",
   "execution_count": null,
   "id": "017373c4",
   "metadata": {},
   "outputs": [],
   "source": [
    "def calculate_change(payment, cost):\n",
    "    change = payment - cost\n",
    "    a = change // 50000\n",
    "    b = (change - (50000 *a)) // 10000\n",
    "    c = (change - (50000 * a) - (10000 * b)) // 5000\n",
    "    d = (change - (50000 * a) - (10000 * b) - (5000 * c)) // 1000\n",
    "    print('50,000원 {}장'.format(a))\n",
    "    print('10,000원 {}장'.format(b))\n",
    "    print('5,000원 {}장'.format(c))\n",
    "    print('1,000원 {}장'.format(d))\n",
    "    \n",
    "calculate_change(100000, 33000)\n",
    "calculate_change(500000, 378000)"
   ]
  },
  {
   "cell_type": "code",
   "execution_count": null,
   "id": "ebd1678e",
   "metadata": {},
   "outputs": [],
   "source": [
    "a = 1\n",
    "while a <= 50:\n",
    "    print(a * 2)\n",
    "    a += 1\n",
    "    "
   ]
  },
  {
   "cell_type": "code",
   "execution_count": null,
   "id": "9b1f7558",
   "metadata": {},
   "outputs": [],
   "source": [
    "i = 100\n",
    "while i % 23 != 0 :  \n",
    "    i += 1\n",
    "print(i)"
   ]
  },
  {
   "cell_type": "code",
   "execution_count": null,
   "id": "054f7e3f",
   "metadata": {},
   "outputs": [],
   "source": [
    "def print_grade(midterm_score, final_score):\n",
    "    total = midterm_score + final_score\n",
    "    \n",
    "    if total >= 90:\n",
    "        print(\"A\")\n",
    "    elif total >= 80 and total < 90:\n",
    "        print('B')\n",
    "    elif total >= 70 and total < 80:\n",
    "        print('C')\n",
    "    elif total >= 60 and total < 70:\n",
    "        print('D')\n",
    "    else:\n",
    "        print('F')\n",
    "        \n",
    "print_grade(40, 45)\n",
    "print_grade(20, 35)\n",
    "print_grade(30, 32)\n",
    "print_grade(50, 45)\n",
    "print_grade(40, 45)\n"
   ]
  },
  {
   "cell_type": "code",
   "execution_count": null,
   "id": "96b3e800",
   "metadata": {},
   "outputs": [],
   "source": [
    "i = 1\n",
    "while i <= 100:\n",
    "    if i % 8 == 0 and i % 12 != 0:\n",
    "        print(i)\n",
    "    i += 1"
   ]
  },
  {
   "cell_type": "code",
   "execution_count": null,
   "id": "a5ad8ea0",
   "metadata": {},
   "outputs": [],
   "source": [
    "i = 1\n",
    "total = 0\n",
    "\n",
    "while i < 1000:\n",
    "    if i % 2 == 0 or i % 3 == 0:\n",
    "        total += i\n",
    "    i += 1\n",
    "    \n",
    "print(total)"
   ]
  },
  {
   "cell_type": "code",
   "execution_count": null,
   "id": "c2898266",
   "metadata": {},
   "outputs": [],
   "source": [
    "i = 1\n",
    "count = 0\n",
    "while i <= 120:\n",
    "    if 120 % i == 0:\n",
    "        print(i)\n",
    "        count += 1\n",
    "    i += 1\n",
    "    \n",
    "print(\"{}의 약수는 총 {}개 입니다.\".format(120, count))"
   ]
  },
  {
   "cell_type": "code",
   "execution_count": null,
   "id": "dffcd344",
   "metadata": {},
   "outputs": [],
   "source": [
    "reward = 50000000\n",
    "RATE = 0.12\n",
    "APARTMENT = 1100000000\n",
    "year = 1988\n",
    "\n",
    "while year < 2016:\n",
    "    reward = reward * (1 + RATE)\n",
    "    year += 1\n",
    "    \n",
    "if reward > APARTMENT:\n",
    "    print(\"{}원 차이로 동일 아저씨 말씀이 맞습니다.\".format(int(reward - APARTMENT)))\n",
    "else:\n",
    "    print(\"{}원 차이로 미란 아주머니 말씀이 맞습니다.\".format(int(APARTMENT - reward)))\n"
   ]
  },
  {
   "cell_type": "code",
   "execution_count": null,
   "id": "e8e1b93b",
   "metadata": {},
   "outputs": [],
   "source": [
    "count = 0\n",
    "previous = 1\n",
    "current = 0\n",
    "\n",
    "while count < 50:\n",
    "    temp = previous\n",
    "    previous = current\n",
    "    current = current + temp\n",
    "    count += 1\n",
    "    print(current)"
   ]
  },
  {
   "cell_type": "code",
   "execution_count": null,
   "id": "1c1eb005",
   "metadata": {},
   "outputs": [],
   "source": [
    "i = 1\n",
    "\n",
    "while i < 10:\n",
    "    n = 1\n",
    "    while n < 10:\n",
    "        print(\"{} * {} = {}\".format(i, n, i * n))\n",
    "        n += 1\n",
    "    i += 1\n"
   ]
  },
  {
   "cell_type": "code",
   "execution_count": null,
   "id": "78e75e31",
   "metadata": {},
   "outputs": [],
   "source": [
    "greetings = [\"안녕\", \"니하오\", \"곤니찌와\", \"올라\", \"싸와디캅\", \"헬로\", \"봉주르\"]"
   ]
  },
  {
   "cell_type": "code",
   "execution_count": null,
   "id": "4a45c587",
   "metadata": {},
   "outputs": [],
   "source": [
    "i = 0\n",
    "while i < 7:\n",
    "    print(greetings[i])\n",
    "    i += 1"
   ]
  },
  {
   "cell_type": "code",
   "execution_count": null,
   "id": "9cdd0ee8",
   "metadata": {},
   "outputs": [],
   "source": [
    "def fahrenheit_to_celsius(fahrenheit):\n",
    "    return (fahrenheit-32)*5 / 9\n",
    "\n",
    "fahrenheit_list= [40, 15, 32, 64, -4, 11]\n",
    "\n",
    "i = 0\n",
    "while i < len(fahrenheit_list):\n",
    "    fahrenheit_list[i] = round(fahrenheit_to_celsius(fahrenheit_list[i]),1)\n",
    "    i += 1\n",
    "\n",
    "print(fahrenheit_list)\n",
    "print(\"섭씨 온도 리스트 : {}\".format(fahrenheit_list))\n"
   ]
  },
  {
   "cell_type": "code",
   "execution_count": null,
   "id": "48d2bf82",
   "metadata": {},
   "outputs": [],
   "source": [
    "prices = [34000, 13000, 5000, 21000, 1000, 2000, 8000, 3000]"
   ]
  },
  {
   "cell_type": "code",
   "execution_count": null,
   "id": "81e1c29f",
   "metadata": {},
   "outputs": [],
   "source": [
    "def krw_to_usd(krw):\n",
    "    return krw / 1000\n",
    "\n",
    "def usd_to_jpy(usd):\n",
    "    return usd * (1000 / 8)\n",
    "\n",
    "print(\"한국 화폐 : {}\".format(str(prices)))\n",
    "\n",
    "i = 0\n",
    "while i < len(prices):\n",
    "    prices[i] = krw_to_usd(prices[i])\n",
    "    i += 1\n",
    "print(\"미국 화폐 : {}\".format(prices))\n",
    "\n",
    "n = 0\n",
    "while n < len(prices):\n",
    "    prices[n] = usd_to_jpy(prices[n])\n",
    "    n += 1\n",
    "print(\"일본 화폐 : {}\".format(prices))\n",
    "\n"
   ]
  },
  {
   "cell_type": "code",
   "execution_count": null,
   "id": "13af9d50",
   "metadata": {},
   "outputs": [],
   "source": [
    "numbers = []\n",
    "numbers.append(1)\n",
    "numbers.append(7)\n",
    "numbers.append(3)\n",
    "numbers.append(6)\n",
    "numbers.append(5)\n",
    "numbers.append(2)\n",
    "numbers.append(13)\n",
    "numbers.append(14)\n",
    "numbers"
   ]
  },
  {
   "cell_type": "code",
   "execution_count": null,
   "id": "809081c8",
   "metadata": {},
   "outputs": [],
   "source": [
    "i = 0\n",
    "while i < len(numbers):\n",
    "    if numbers[i] % 2 != 0:\n",
    "        del numbers[i]\n",
    "    else:\n",
    "        i += 1\n",
    "numbers"
   ]
  },
  {
   "cell_type": "code",
   "execution_count": null,
   "id": "98f4be5a",
   "metadata": {},
   "outputs": [],
   "source": [
    "numbers.insert(0, 20)\n",
    "numbers"
   ]
  },
  {
   "cell_type": "code",
   "execution_count": null,
   "id": "da83ae56",
   "metadata": {},
   "outputs": [],
   "source": [
    "numbers.sort(reverse = False)\n",
    "numbers"
   ]
  },
  {
   "cell_type": "code",
   "execution_count": null,
   "id": "ae3dd1ec",
   "metadata": {},
   "outputs": [],
   "source": [
    "numbers = [2, 3, 5, 7, 11, 13, 17, 19, 23, 29, 31]\n",
    "\n",
    "for i in range(0, len(numbers)):\n",
    "    print(\"{} {}\".format(i, numbers[i]))\n"
   ]
  },
  {
   "cell_type": "code",
   "execution_count": null,
   "id": "6fd34ac5",
   "metadata": {},
   "outputs": [],
   "source": [
    "for i in range(11):\n",
    "    print(\"{}^{} = {}\".format(2, i, 2**i))"
   ]
  },
  {
   "cell_type": "code",
   "execution_count": null,
   "id": "01fe38d6",
   "metadata": {},
   "outputs": [],
   "source": [
    "for i in range(1, 10):\n",
    "    for n in range(1, 10):\n",
    "        print(\"{} * {} = {}\".format(i, n, i * n))"
   ]
  },
  {
   "cell_type": "code",
   "execution_count": null,
   "id": "52aae42e",
   "metadata": {},
   "outputs": [],
   "source": [
    "for a in range(1, 1000):\n",
    "    for b in range(1, 1000):\n",
    "        if a**2 + b**2 == (1000-a-b)**2 and a<b<1000-a-b:\n",
    "            print(a*b*(1000-a-b))"
   ]
  },
  {
   "cell_type": "code",
   "execution_count": null,
   "id": "5dadceae",
   "metadata": {},
   "outputs": [],
   "source": [
    "numbers = [2, 3, 5, 7, 11, 13, 17, 19]\n",
    "\n",
    "for i in range(round(len(numbers)/2),):\n",
    "    numbers[i], numbers[len(numbers)-1-i] = numbers[len(numbers)-1-i], numbers[i]\n",
    "numbers"
   ]
  },
  {
   "cell_type": "code",
   "execution_count": null,
   "id": "279bf651",
   "metadata": {},
   "outputs": [],
   "source": [
    "dict = {\n",
    "    \"sanitizer\" : \"살균제\",\n",
    "    \"ambition\" : \"야망\",\n",
    "    \"conscience\" : \"양심\",\n",
    "    \"civilization\" : \"문명\"\n",
    "}\n",
    "dict"
   ]
  },
  {
   "cell_type": "code",
   "execution_count": null,
   "id": "87513640",
   "metadata": {},
   "outputs": [],
   "source": [
    "dict['privilage'] = \"특권\"\n",
    "dict['principle'] = \"원칙\""
   ]
  },
  {
   "cell_type": "code",
   "execution_count": null,
   "id": "c00a287c",
   "metadata": {},
   "outputs": [],
   "source": [
    "print(dict)"
   ]
  },
  {
   "cell_type": "code",
   "execution_count": null,
   "id": "d569e759",
   "metadata": {},
   "outputs": [],
   "source": [
    "def reverse_dict(dict):\n",
    "    new_dict = {}\n",
    "    for key, value in dict.items():\n",
    "        new_dict[value] = key\n",
    "    \n",
    "    return new_dict\n",
    "\n",
    "vocab = {\n",
    "    'sanitizer': '살균제',\n",
    "    'ambition': '야망',\n",
    "    'conscience': '양심',\n",
    "    'civilization': '문명',\n",
    "    'privilege': '특권',\n",
    "    'principles': '원칙'\n",
    "}\n",
    "\n",
    "print(\"영-한 단어장|n{}|n\".format(vocab))\n",
    "\n",
    "reversed_vocab = reverse_dict(vocab)\n",
    "print(\"한-영 단어장|n{}\".format(reversed_vocab))"
   ]
  },
  {
   "cell_type": "code",
   "execution_count": null,
   "id": "dc029d3c",
   "metadata": {},
   "outputs": [],
   "source": [
    "votes = ['김영자', '강승기', '최만수', '김영자', '강승기', '강승기', '최만수', '김영자', \\\n",
    "'최만수', '김영자', '최만수', '김영자', '김영자', '최만수', '최만수', '최만수', '강승기', \\\n",
    "'강승기', '김영자', '김영자', '최만수', '김영자', '김영자', '강승기', '김영자']\n",
    "\n",
    "vote_counter = {}\n",
    "\n",
    "for name in votes:\n",
    "    if name in vote_counter:\n",
    "        vote_counter[name] += 1\n",
    "    else:\n",
    "        vote_counter[name] = 1\n",
    "\n",
    "        \n",
    "print(vote_counter)"
   ]
  },
  {
   "cell_type": "code",
   "execution_count": null,
   "id": "bfd23195",
   "metadata": {},
   "outputs": [],
   "source": [
    "def sum_digit(num):\n",
    "    str_num = str(num)\n",
    "    total = 0\n",
    "    \n",
    "    for i in range(len(str_num)):\n",
    "        total += int(str_num[i])\n",
    "        \n",
    "    return total\n",
    "\n",
    "real_total = 0\n",
    "for n in range(1, 1001):\n",
    "    real_total += sum_digit(n)\n",
    "\n",
    "print(real_total)\n",
    "        \n",
    "        "
   ]
  },
  {
   "cell_type": "code",
   "execution_count": null,
   "id": "090432b2",
   "metadata": {},
   "outputs": [],
   "source": [
    "def mask_security_number(security_number): \n",
    "    slice = security_number[:len(security_number)-4]\n",
    "    security = \"****\"\n",
    "    \n",
    "    return slice + security\n",
    "\n",
    "print(mask_security_number(\"880720-1234567\"))\n",
    "    "
   ]
  },
  {
   "cell_type": "code",
   "execution_count": null,
   "id": "db9f14c3",
   "metadata": {},
   "outputs": [],
   "source": [
    "def is_palindrome(word):\n",
    "    for i in range(len(word)): \n",
    "        if word[i] == word[len(word)-i-1]:\n",
    "            return \"True\"\n",
    "        else:\n",
    "            return \"False\""
   ]
  },
  {
   "cell_type": "code",
   "execution_count": null,
   "id": "d50e3921",
   "metadata": {},
   "outputs": [],
   "source": [
    "print(is_palindrome(\"racecar\"))"
   ]
  },
  {
   "cell_type": "code",
   "execution_count": null,
   "id": "f2e62188",
   "metadata": {},
   "outputs": [],
   "source": [
    "import random\n",
    "\n",
    "ANSWER = random.randint(1, 20)\n",
    "TRIES = 4\n",
    "tries = 0\n",
    "\n",
    "while tries < TRIES:\n",
    "    guess = int(input(\"기회가 {}번 남았습니다. 1-20 사이의 숫자를 맞춰보세요: \".format(TRIES-tries)))\n",
    "\n",
    "    if guess < ANSWER:\n",
    "        print(\"UP\")\n",
    "        tries += 1\n",
    "        \n",
    "    elif guess > ANSWER:\n",
    "        print(\"Down\")\n",
    "        tries += 1\n",
    "    \n",
    "    else:\n",
    "        print(\"축하합니다. {}번 만에 숫자를 맞추셨습니다.\".format(tries+1))\n",
    "        break\n",
    "        \n",
    "if tries == TRIES:\n",
    "    print(\"아쉽습니다. 정답은 {}였습니다.\".format(ANSWER))\n",
    "        "
   ]
  },
  {
   "cell_type": "code",
   "execution_count": null,
   "id": "5f3801de",
   "metadata": {},
   "outputs": [],
   "source": [
    "with open('chicken.txt', 'r', encoding = 'utf-8') as file:\n",
    "    total_revenue = 0\n",
    "    total_days = 0\n",
    "    \n",
    "    for line in file:\n",
    "        data = line.strip().split(': ')\n",
    "        revenue = int(data[1])\n",
    "        \n",
    "        total_revenue += revenue\n",
    "        total_days += 1\n",
    "    \n",
    "    print(total_revenue / total_days)\n",
    "       "
   ]
  },
  {
   "cell_type": "code",
   "execution_count": null,
   "id": "256bef70",
   "metadata": {},
   "outputs": [],
   "source": [
    "with open('vocabulary.txt', 'a') as file:\n",
    "    \n",
    "    while True:\n",
    "        english = input('영어 단어를 입력하세요: ')\n",
    "        if english == 'q':\n",
    "            break\n",
    "            \n",
    "        korean = input('한국어 뜻을 입력하세요: ')\n",
    "        if korean == 'q':\n",
    "            break\n",
    "            \n",
    "                \n",
    "        file.write(\"{} : {}\\n\".format(english, korean))\n",
    "        \n",
    "        \n",
    "       \n",
    "    "
   ]
  },
  {
   "cell_type": "code",
   "execution_count": null,
   "id": "6459bf5c",
   "metadata": {},
   "outputs": [],
   "source": [
    "import random"
   ]
  },
  {
   "cell_type": "code",
   "execution_count": null,
   "id": "51326d20",
   "metadata": {},
   "outputs": [],
   "source": [
    "with open('vocabulary.txt', 'r') as file:\n",
    "    dic = {}\n",
    "    \n",
    "    for line in file:\n",
    "        data = line.strip().split(\" : \")\n",
    "        english = data[0]\n",
    "        korean = data[1]\n",
    "        \n",
    "        dic[english] = korean\n",
    "        \n",
    "keys = list(dic.keys())\n",
    "        \n",
    "       \n",
    "        \n",
    "while True:\n",
    "    mix = random.randint(0, len(keys)-1)\n",
    "        \n",
    "    eng = keys[mix]\n",
    "    kor = dic[eng]\n",
    "\n",
    "    quiz = input(\"{}: \".format(kor))\n",
    "        \n",
    "    if quiz == \"q\":\n",
    "        break\n",
    "        \n",
    "    if quiz == eng:\n",
    "        print(\"맞았습니다\")\n",
    "    else:\n",
    "        print(\"틀렸습니다. 정답은 {}입니다.\".format(eng))\n",
    "    \n",
    "    "
   ]
  },
  {
   "cell_type": "code",
   "execution_count": null,
   "id": "321e4d8e",
   "metadata": {},
   "outputs": [],
   "source": [
    "import random\n",
    "\n",
    "def generate_numbers(n):\n",
    "    my_numbers = []\n",
    "    \n",
    "    for i in range(1, n+1):\n",
    "        number = random.randint(1, 45)\n",
    "        if number not in my_numbers:\n",
    "            my_numbers.append(number)\n",
    "                \n",
    "    return my_numbers\n",
    "\n",
    "print(generate_numbers(6))\n",
    "    "
   ]
  },
  {
   "cell_type": "code",
   "execution_count": null,
   "id": "7dcbeda9",
   "metadata": {},
   "outputs": [],
   "source": [
    "import random\n",
    "\n",
    "def draw_winning_numbers():\n",
    "    winning_numbers = []\n",
    "    \n",
    "    for i in range(1, 7):\n",
    "        win_number = random.randint(1, 45)\n",
    "        if win_number not in winning_numbers:\n",
    "            winning_numbers.append(win_number)\n",
    "    \n",
    "    winning_numbers.sort()\n",
    "    \n",
    "    bonus_number = random.randint(1, 45)\n",
    "    if bonus_number not in winning_numbers:\n",
    "        winning_numbers.append(bonus_number)\n",
    "                \n",
    "    return winning_numbers\n",
    "\n",
    "print(draw_winning_numbers())\n",
    "    "
   ]
  },
  {
   "cell_type": "code",
   "execution_count": null,
   "id": "d3b9a254",
   "metadata": {},
   "outputs": [],
   "source": [
    "def count_matching_numbers(list_1, list_2):\n",
    "    count = 0\n",
    "    for i in list_1:\n",
    "        if i in list_2:\n",
    "            count += 1\n",
    "            \n",
    "    return count\n",
    "\n",
    "print(count_matching_numbers([2, 7, 11, 14, 25, 40], [2, 11, 13, 12, 30, 35]))"
   ]
  },
  {
   "cell_type": "code",
   "execution_count": null,
   "id": "c7029081",
   "metadata": {},
   "outputs": [],
   "source": [
    "def check():\n",
    "    "
   ]
  },
  {
   "cell_type": "code",
   "execution_count": null,
   "id": "772b75cc",
   "metadata": {},
   "outputs": [],
   "source": [
    "import random\n",
    "\n",
    "def generate_numbers():\n",
    "    i = 0\n",
    "    gen_numbers = []\n",
    "    \n",
    "    while i < 3:\n",
    "        number = random.randint(0, 9)\n",
    "        if number not in gen_numbers:\n",
    "            gen_numbers.append(number)\n",
    "        \n",
    "        i += 1\n",
    "            \n",
    "    return gen_numbers\n",
    "    \n",
    "print(generate_numbers())"
   ]
  },
  {
   "cell_type": "code",
   "execution_count": null,
   "id": "8dfa6332",
   "metadata": {},
   "outputs": [],
   "source": [
    "def take_guess():\n",
    "    print(\"숫자 3개를 하나씩 차례대로 입력하세요.\")\n",
    "    i = 1\n",
    "    guess_numbers = []\n",
    "    \n",
    "    while i <= 3:\n",
    "        number = int(input(\"{}번째 숫자를 입력하세요: \".format(i)))\n",
    "        if number >= 9 :\n",
    "            print(\"범위를 벗어나는 숫자입니다. 다시 입력하세요\")\n",
    "            continue\n",
    "        elif number in guess_numbers:\n",
    "            print(\"중복되는 숫자입니다. 다시 입력하세요.\")\n",
    "            continue\n",
    "        else:\n",
    "            guess_numbers.append(number)\n",
    "        i += 1\n",
    "        \n",
    "    return guess_numbers\n",
    "\n",
    "print(take_guess())\n",
    "        "
   ]
  },
  {
   "cell_type": "code",
   "execution_count": null,
   "id": "3daa3a65",
   "metadata": {},
   "outputs": [],
   "source": [
    "def get_score(gen_numbers, guess_numbers):\n",
    "    strike = 0\n",
    "    ball = 0\n",
    "    \n",
    "    for i in range(3):\n",
    "        if guess_numbers[i] == gen_numbers[i]:\n",
    "            strike += 1\n",
    "        elif guess_numbers[i] in gen_numbers and guess_numbers[i] != gen_numbers[i]:\n",
    "            ball += 1\n",
    "        \n",
    "            \n",
    "    return strike, ball\n",
    "\n",
    "s,b = get_score([2, 7, 4], [2, 4, 7])\n",
    "\n",
    "print(s)\n",
    "print(b)\n",
    "\n",
    "\n"
   ]
  },
  {
   "cell_type": "code",
   "execution_count": 1,
   "id": "5efc9092",
   "metadata": {},
   "outputs": [],
   "source": [
    "import random\n",
    "\n",
    "def generate_numbers():\n",
    "\n",
    "    i = 0\n",
    "    gen_numbers = []\n",
    "    \n",
    "    while i < 3:\n",
    "        number = random.randint(0, 9)\n",
    "        if number not in gen_numbers:\n",
    "            gen_numbers.append(number)\n",
    "        \n",
    "        i += 1\n",
    "            \n",
    "    return gen_numbers\n",
    "    \n",
    "\n",
    "def take_guess():\n",
    "    print(\"숫자 3개를 하나씩 차례대로 입력하세요.\")\n",
    "    i = 1\n",
    "    guess_numbers = []\n",
    "    \n",
    "    while i <= 3:\n",
    "        number = int(input(\"{}번째 숫자를 입력하세요: \".format(i)))\n",
    "        if number > 9 :\n",
    "            print(\"범위를 벗어나는 숫자입니다. 다시 입력하세요\")\n",
    "            continue\n",
    "        elif number in guess_numbers:\n",
    "            print(\"중복되는 숫자입니다. 다시 입력하세요.\")\n",
    "            continue\n",
    "        else:\n",
    "            guess_numbers.append(number)\n",
    "        i += 1\n",
    "        \n",
    "    return guess_numbers\n",
    "\n",
    "def get_score(gen_numbers, guess_numbers):\n",
    "    strike = 0\n",
    "    ball = 0\n",
    "    \n",
    "    for i in range(3):\n",
    "        if guess_numbers[i] == gen_numbers[i]:\n",
    "            strike += 1\n",
    "        elif guess_numbers[i] in gen_numbers and guess_numbers[i] != gen_numbers[i]:\n",
    "            ball += 1\n",
    "        \n",
    "            \n",
    "    return strike, ball\n"
   ]
  },
  {
   "cell_type": "code",
   "execution_count": 2,
   "id": "1e446e56",
   "metadata": {},
   "outputs": [
    {
     "name": "stdout",
     "output_type": "stream",
     "text": [
      "0과 9 사이의 서로 다른 숫자 3개를 랜덤한 순서로 뽑았습니다.\n",
      "[0, 2, 5]\n",
      "숫자 3개를 하나씩 차례대로 입력하세요.\n",
      "1번째 숫자를 입력하세요: 0\n",
      "2번째 숫자를 입력하세요: 2\n",
      "3번째 숫자를 입력하세요: 9\n",
      "2S 0B\n",
      "\n",
      "숫자 3개를 하나씩 차례대로 입력하세요.\n",
      "1번째 숫자를 입력하세요: 0\n",
      "2번째 숫자를 입력하세요: 2\n",
      "3번째 숫자를 입력하세요: 5\n",
      "3S 0B\n",
      "\n",
      "축하합니다. 2번 만에 숫자 3개의 값과 위치를 모두 맞추셨습니다.\n"
     ]
    }
   ],
   "source": [
    "count = 0\n",
    "ANSWER = generate_numbers()\n",
    "print(\"0과 9 사이의 서로 다른 숫자 3개를 랜덤한 순서로 뽑았습니다.\")\n",
    "print(ANSWER)\n",
    "\n",
    "while True:\n",
    "    guess_number = take_guess()\n",
    "    s, b = get_score(ANSWER, guess_number)\n",
    "    print(\"{}S {}B\\n\".format(s, b))\n",
    "    count += 1\n",
    "    \n",
    "    if s == 3:\n",
    "        print(\"축하합니다. {}번 만에 숫자 3개의 값과 위치를 모두 맞추셨습니다.\".format(count))\n",
    "        break\n"
   ]
  },
  {
   "cell_type": "code",
   "execution_count": null,
   "id": "1795fe7f",
   "metadata": {},
   "outputs": [],
   "source": []
  }
 ],
 "metadata": {
  "kernelspec": {
   "display_name": "Python 3",
   "language": "python",
   "name": "python3"
  },
  "language_info": {
   "codemirror_mode": {
    "name": "ipython",
    "version": 3
   },
   "file_extension": ".py",
   "mimetype": "text/x-python",
   "name": "python",
   "nbconvert_exporter": "python",
   "pygments_lexer": "ipython3",
   "version": "3.8.8"
  }
 },
 "nbformat": 4,
 "nbformat_minor": 5
}
