{
 "cells": [
  {
   "cell_type": "markdown",
   "id": "39247766",
   "metadata": {},
   "source": [
    "# 파일 읽기\n",
    "##### f = open('filename' , 'mode')\n",
    "- 모드 종류 (모드는 혼합해서 사용가능) <br>\n",
    "r(읽기모드) <br>\n",
    "w(쓰기모드, 같은 이름 파일이 있으면 기존 내용 모두 삭제) <br>\n",
    "x(쓰기모드, 같은 이름 파일이 있으면 오류 발생) <br>\n",
    "a(추가모드) <br>\n",
    "b(바이너리모드) <br>\n",
    "t(텍스트 파일 모드, 가장 디폴트 값, 아무것도 입력하지 않으면 기본 텍스트 모드) <br>"
   ]
  },
  {
   "cell_type": "code",
   "execution_count": null,
   "id": "cee8ed3a",
   "metadata": {},
   "outputs": [],
   "source": [
    "# 코드잇에서 배운거\n",
    "with open('파일명.확장자', 'r 또는 w', encoding='utf-8') as f: # 지칭하고 싶은 이름\n",
    "    for line in f: #line이 파일의 한줄 한줄을 인식함 ~ 마지막 줄까지\n",
    "        print(line)"
   ]
  },
  {
   "cell_type": "code",
   "execution_count": null,
   "id": "1ece8523",
   "metadata": {},
   "outputs": [],
   "source": [
    "f = open('C:/Users/SHON/practice.txt', 'r', encoding = 'UTF-8')\n",
    "print(f.read())\n",
    "f.close()"
   ]
  },
  {
   "cell_type": "markdown",
   "id": "e2321278",
   "metadata": {},
   "source": [
    "## with문을 활용해 파일 읽고 쓰기 (가장편함)\n",
    "with open('파일명', '모드') as f:<br>\n",
    "코드가 모두 끝나면 자동으로 close됨"
   ]
  },
  {
   "cell_type": "code",
   "execution_count": null,
   "id": "4beb6dab",
   "metadata": {},
   "outputs": [],
   "source": [
    "# r : read 약자\n",
    "# with를 쓰는 이유는 매번 close하기 귀찮기 때문에 편의성을 고려한 코드\n",
    "with open('data/chicken.txt', 'r', encoding = 'utf-8') as f:\n",
    "    for line in f:\n",
    "        print(line.strip()) # strip : 화이트 스페이스 제거"
   ]
  },
  {
   "cell_type": "markdown",
   "id": "0a8978dc",
   "metadata": {},
   "source": [
    "## readline()\n",
    "read()는 파일 내용 전체를 반환하므로 내용을 한 줄 씩 읽어서 처리해야 할 때 어려움<br>\n",
    "파일 내용을 한 줄 씩 읽고 처리하려면 ** readline(), readlines() ** 이용<br>\n",
    "\n",
    "- 파일을 연 후 readline() 수행하면 문자열 한 줄 읽음\n",
    "- readline()은 실행한 횟수만큼 문자열을 한 줄씩 읽음\n",
    "- ** while 반복문과 함께 쓰는 것이 유용 **"
   ]
  },
  {
   "cell_type": "code",
   "execution_count": 1,
   "id": "c9a48283",
   "metadata": {},
   "outputs": [
    {
     "name": "stdout",
     "output_type": "stream",
     "text": [
      "Hello world\n",
      "Hello world2\n",
      "Hello world3\n",
      "Hello world4\n",
      "\n",
      "\n"
     ]
    }
   ],
   "source": [
    "f = open('C:/Users/SHON/practice.txt')\n",
    "line = f.readline() # line에 한줄 문자열 대입\n",
    "while line: # line이 빈 문자열인지 판단해서(TRue, False)\n",
    "    print(line, end = \"\")\n",
    "    line = f.readline() # 그 다음 문자열 확인\n",
    "\n",
    "f.close()"
   ]
  },
  {
   "cell_type": "markdown",
   "id": "c5546be0",
   "metadata": {},
   "source": [
    "## readlines()\n",
    "파일 전체의 모든 줄을 읽어서 한 줄 씩 요소를 갖는 리스트 타입으로 반환 <br>\n",
    "['1번쨰줄', '2번째줄', '3번째줄'...]<br>\n",
    "**lines 리스트에 할당된 문자열은 for문을 이용해 항목을 하나씩 처리할 수 있다.**"
   ]
  },
  {
   "cell_type": "code",
   "execution_count": 3,
   "id": "4ec3994b",
   "metadata": {},
   "outputs": [
    {
     "name": "stdout",
     "output_type": "stream",
     "text": [
      "['Hello world\\n', 'Hello world2\\n', 'Hello world3\\n', 'Hello world4\\n', '\\n', '\\n']\n"
     ]
    }
   ],
   "source": [
    "f = open('C:/Users/SHON/practice.txt')\n",
    "lines = f.readlines()\n",
    "f.close()\n",
    "\n",
    "print(lines)"
   ]
  },
  {
   "cell_type": "code",
   "execution_count": 49,
   "id": "ff0b0a49",
   "metadata": {},
   "outputs": [
    {
     "name": "stdout",
     "output_type": "stream",
     "text": [
      "Hello world\n",
      "\n",
      "Hello world2\n",
      "\n",
      "Hello world3\n",
      "\n",
      "Hello world4\n",
      "\n",
      "\n",
      "\n",
      "\n",
      "\n"
     ]
    }
   ],
   "source": [
    "f = open('C:/Users/SHON/practice.txt')\n",
    "lines = f.readlines()\n",
    "f.close()\n",
    "\n",
    "for line in lines: # 리스트에 있는 항목 각각을\n",
    "    print(line, end=\"\\n\") # 출력하겠다."
   ]
  },
  {
   "cell_type": "markdown",
   "id": "f329ff1c",
   "metadata": {},
   "source": [
    "# 파일 쓰기\n",
    "#### 파일을 열고 쓰거나 읽고 난 후에는 반드시 닫아줘야한다(close).\n",
    "f = open('filename', 'mode') <br>\n",
    "f.write(str)<br>\n",
    "f.close()<br>\n",
    "\n",
    "##### '!cat 파일 이름' 을 이용해 파일이 있는지 확인 "
   ]
  },
  {
   "cell_type": "code",
   "execution_count": null,
   "id": "41adbcbe",
   "metadata": {},
   "outputs": [],
   "source": [
    "with open('new_file.txt', 'w') as f: \n",
    "    # 내용을 추가하고 싶다면 'a' append를 쓴다.\n",
    "    # 파일이 없어도 a를 쓰면 파일을 생성한다.\n",
    "    f.write('hello world\\n')\n",
    "    f.write('he\\n')"
   ]
  },
  {
   "cell_type": "markdown",
   "id": "6f14c764",
   "metadata": {},
   "source": [
    "# 텍스트 파일 데이터 읽고 처리하기\n",
    "- 파일의 내용을 한 번에 읽어오는 것이 아니라 한 줄씩 읽어서 처리\n",
    "- 파일에서 읽은 내용은 문자열 데이터가 되는데 이를 원하는 형태로 분리하고\n",
    "- 연산이 필요한 부분은 숫자 데이터로 변환 후 처리하는 방법"
   ]
  },
  {
   "cell_type": "markdown",
   "id": "ff59f659",
   "metadata": {},
   "source": [
    "# 모듈\n",
    " - 파이썬 코드를 작성한 후 파일로 저장하면 다른 코드에서도 파일의 변수, 함수, 클래스를 불러와 이용할 수 있음\n",
    " - 코드가 저장된 파일을 모듈이라고 부른다.\n",
    " - 항상 코드를 새로 짜기엔 시간이 너무 오래 걸리기 때문에 모듈을 사용"
   ]
  },
  {
   "cell_type": "code",
   "execution_count": 30,
   "id": "9403a6b5",
   "metadata": {},
   "outputs": [
    {
     "name": "stdout",
     "output_type": "stream",
     "text": [
      "Overwriting my_first_module.py\n"
     ]
    }
   ],
   "source": [
    "%%writefile my_first_module.py \n",
    "# 모듈 생성하기\n",
    "\n",
    "def my_function():\n",
    "    print('This is my first module.')"
   ]
  },
  {
   "cell_type": "code",
   "execution_count": 35,
   "id": "15d31bea",
   "metadata": {},
   "outputs": [
    {
     "name": "stdout",
     "output_type": "stream",
     "text": [
      "This is my first module.\n"
     ]
    }
   ],
   "source": [
    "# 모듈 불러오기\n",
    "import my_first_module\n",
    "\n",
    "my_first_module.my_function()"
   ]
  },
  {
   "cell_type": "code",
   "execution_count": 37,
   "id": "799c0a79",
   "metadata": {},
   "outputs": [
    {
     "name": "stdout",
     "output_type": "stream",
     "text": [
      "Overwriting my_area.py\n"
     ]
    }
   ],
   "source": [
    "%%writefile my_area.py\n",
    "\n",
    "PI = 3.14\n",
    "def square_area(a):\n",
    "    return a ** 2\n",
    "\n",
    "def circle_area(r):\n",
    "    return PI * r ** 2"
   ]
  },
  {
   "cell_type": "code",
   "execution_count": 40,
   "id": "d31f9693",
   "metadata": {},
   "outputs": [
    {
     "name": "stdout",
     "output_type": "stream",
     "text": [
      "pi =  3.14\n",
      "square area =  25\n",
      "circle area =  12.56\n"
     ]
    }
   ],
   "source": [
    "import my_area\n",
    "\n",
    "print('pi = ', my_area.PI) # 모듈의 변수 불러오기\n",
    "print('square area = ', my_area.square_area(5))\n",
    "print('circle area = ', my_area.circle_area(2))"
   ]
  },
  {
   "cell_type": "code",
   "execution_count": 43,
   "id": "4e0b2b19",
   "metadata": {},
   "outputs": [
    {
     "data": {
      "text/plain": [
       "['PI',\n",
       " '__builtins__',\n",
       " '__cached__',\n",
       " '__doc__',\n",
       " '__file__',\n",
       " '__loader__',\n",
       " '__name__',\n",
       " '__package__',\n",
       " '__spec__',\n",
       " 'circle_area',\n",
       " 'square_area']"
      ]
     },
     "execution_count": 43,
     "metadata": {},
     "output_type": "execute_result"
    }
   ],
   "source": [
    "# 모듈에서 사용할 수 있는 변수, 함수, 클래스를 알고 싶을 때 dir()\n",
    "dir(my_area)"
   ]
  },
  {
   "cell_type": "markdown",
   "id": "2cd5c76f",
   "metadata": {},
   "source": [
    "# 모듈? 라이브러리? 패키지?\n",
    "- 라이브러리 > 패키지 > 모듈 집합관계로 정의할 수 있다.\n",
    "\n",
    "- 라이브러리 : 패키지와 모듈의 집합\n",
    "- 패키지 : 특정 기능과 관련된 여러 모듈을 하나의 상위 폴더에 넣어놓은 것\n",
    "- 모듈 : 특정기능(함수, 변수, 클래스)등의 구현되어 있는 파이썬 파일(.py)"
   ]
  },
  {
   "cell_type": "markdown",
   "id": "623bcf31",
   "metadata": {},
   "source": [
    "## 모듈을 불러오는 다른 형식\n",
    " - from 모듈명 import 변수명 / 함수명 / 클래스명\n",
    " - 한 번에 여러 변수명을 연달아 입력가능\n",
    " - 모듈명.~~ 없이 변수명, 함수명, 클래스명만 입력해서 사용가능\n",
    " - from 모듈명 import *  : 모듈 내의 모든 변수, 함수, 클래스 불러옴\n",
    " \n",
    " - 내장 모듈\n",
    " https://docs.python.org/3.9/library/"
   ]
  },
  {
   "cell_type": "markdown",
   "id": "4b36379c",
   "metadata": {},
   "source": [
    "## 모듈 직접 실행과 임포트 후 실행하는 건 다르다!"
   ]
  },
  {
   "cell_type": "code",
   "execution_count": 52,
   "id": "00cd3a78",
   "metadata": {},
   "outputs": [
    {
     "name": "stdout",
     "output_type": "stream",
     "text": [
      "Overwriting my_module_test2.py\n"
     ]
    }
   ],
   "source": [
    "%%writefile my_module_test2.py\n",
    "\n",
    "def func(a):\n",
    "    print('입력숫자:',a)\n",
    "    \n",
    "if __name__ == '__main__':\n",
    "    print('모듈을 직접 실행')\n",
    "    func(3)\n",
    "    func(4)"
   ]
  },
  {
   "cell_type": "code",
   "execution_count": 54,
   "id": "73442679",
   "metadata": {},
   "outputs": [
    {
     "name": "stdout",
     "output_type": "stream",
     "text": [
      "모듈을 직접 실행\n",
      "입력숫자: 3\n",
      "입력숫자: 4\n"
     ]
    }
   ],
   "source": [
    "# 모듈을 직접 실행하는 경우\n",
    "# 구분을 하기 위해 if __name__ == '__main__':을 입력하고 실행문을 작성한다.\n",
    "%run my_module_test2.py"
   ]
  },
  {
   "cell_type": "code",
   "execution_count": 56,
   "id": "5504c19f",
   "metadata": {},
   "outputs": [
    {
     "name": "stdout",
     "output_type": "stream",
     "text": [
      "입력숫자: 3\n"
     ]
    }
   ],
   "source": [
    "# 모듈을 임포트 해서 실행하는 경우\n",
    "# def 부분만 실행이된다.\n",
    "import my_module_test2\n",
    "\n",
    "func(3)"
   ]
  },
  {
   "cell_type": "code",
   "execution_count": null,
   "id": "b0f5726c",
   "metadata": {},
   "outputs": [],
   "source": [
    "####### 정리 ######\n",
    "\n",
    "if __name__ == '__main__':\n",
    "    # <모듈을 직접 수행할 때만 실행되는 코드>\n",
    "    \n",
    "else:\n",
    "    # <임포트 됐을 때만 실행하는 코드>"
   ]
  },
  {
   "cell_type": "markdown",
   "id": "e4c05b77",
   "metadata": {},
   "source": [
    "# random 함수 (randint)"
   ]
  },
  {
   "cell_type": "code",
   "execution_count": null,
   "id": "aac8002a",
   "metadata": {},
   "outputs": [],
   "source": [
    "import random\n",
    "\n",
    "print(random.randint(1, 20))\n",
    "print(random.randint(1, 20))\n",
    "print(random.randint(1, 20))\n",
    "print(random.randint(1, 20))\n",
    "print(random.randint(1, 20))"
   ]
  },
  {
   "cell_type": "markdown",
   "id": "3b90c322",
   "metadata": {},
   "source": [
    "# input 함수(기본전제는 문자형을 받는다는 것)"
   ]
  },
  {
   "cell_type": "code",
   "execution_count": null,
   "id": "0b3d21c1",
   "metadata": {},
   "outputs": [],
   "source": [
    "name = input(\"이름을 입력하세교: \")\n",
    "print(name)\n",
    "# 숫자를 입력받는다면 \n",
    "# input은 항상 문자열만 받기 때문에 int를 쓰지 않으면 오류가 나게 된다.\n",
    "x = int(input(\"숫자를 입력하세요: \"))\n",
    "print(x + 5)"
   ]
  }
 ],
 "metadata": {
  "kernelspec": {
   "display_name": "Python 3",
   "language": "python",
   "name": "python3"
  },
  "language_info": {
   "codemirror_mode": {
    "name": "ipython",
    "version": 3
   },
   "file_extension": ".py",
   "mimetype": "text/x-python",
   "name": "python",
   "nbconvert_exporter": "python",
   "pygments_lexer": "ipython3",
   "version": "3.8.8"
  }
 },
 "nbformat": 4,
 "nbformat_minor": 5
}
